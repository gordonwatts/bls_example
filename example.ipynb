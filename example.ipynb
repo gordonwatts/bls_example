{
 "cells": [
  {
   "cell_type": "markdown",
   "metadata": {},
   "source": [
    "# Accessing BLS data\n",
    "\n",
    "There is at least one type that required some special attention in a BLS file as it was not listed in the `xAOD` EDM. To fix this, there is now a [special file](https://github.com/gordonwatts/func-adl-types-atlas/blob/main/scripts/required_classes.txt) that contains a list of `extra` types.\n",
    "\n",
    "This demo shows how to use those classes."
   ]
  },
  {
   "cell_type": "markdown",
   "metadata": {},
   "source": [
    "## Local ServiceX Against a file\n",
    "\n",
    "This file was taken from the dataset `user.ponyisi:user.ponyisi.mc23_13p6TeV.524546.MGPy8EG_23lo_S4b18p4NJ0_Upsi1S2mu_4mu_3pt2_v2.deriv.DAOD_BPHY4.e8548_a911_r14908_p5923`. Any BLS file should work."
   ]
  },
  {
   "cell_type": "code",
   "execution_count": 1,
   "metadata": {},
   "outputs": [],
   "source": [
    "from pathlib import Path\n",
    "from servicex import dataset\n",
    "\n",
    "\n",
    "\n",
    "file = Path(\"DAOD_BPHY4.35498368._000001.pool.root.1\").absolute()\n",
    "\n",
    "assert file.exists()\n",
    "\n",
    "ds = dataset.FileList([str(file)])"
   ]
  },
  {
   "cell_type": "markdown",
   "metadata": {},
   "source": [
    "Next, lets create the local sx instance (for testing)."
   ]
  },
  {
   "cell_type": "code",
   "execution_count": 2,
   "metadata": {},
   "outputs": [],
   "source": [
    "from servicex_local import (\n",
    "    LocalXAODCodegen,\n",
    "    SXLocalAdaptor,\n",
    "    WSL2ScienceImage,\n",
    "    DockerScienceImage\n",
    ")\n",
    "from servicex.configuration import Configuration, Endpoint\n",
    "from servicex_local.adaptor import MinioLocalAdaptor\n",
    "\n",
    "codegen_name = \"atlasr22-local\"\n",
    "backend_name = \"local-backend\"\n",
    "\n",
    "codegen = LocalXAODCodegen()\n",
    "# science_runner = WSL2ScienceImage(\"atlas_al9\", \"25.2.12\")\n",
    "science_runner = DockerScienceImage(\n",
    "    \"sslhep/servicex_func_adl_xaod_transformer:22.2.107\"\n",
    ")\n",
    "adaptor = SXLocalAdaptor(codegen, science_runner, codegen_name, \"http://localhost:5001\")\n",
    "\n",
    "Configuration.register_endpoint(\n",
    "    Endpoint(\n",
    "        name=backend_name,\n",
    "        adapter=adaptor,\n",
    "        minio=MinioLocalAdaptor.for_transform,  # type: ignore\n",
    "        endpoint=\"bogus\",\n",
    "    )\n",
    ")"
   ]
  },
  {
   "cell_type": "markdown",
   "metadata": {},
   "source": [
    "## The BLS query that fetches just the orphaned type data\n",
    "\n",
    "We have to declare the type first."
   ]
  },
  {
   "cell_type": "code",
   "execution_count": 3,
   "metadata": {},
   "outputs": [],
   "source": [
    "from func_adl_servicex_xaodr22 import FuncADLQueryPHYSLITE\n",
    "\n",
    "query = (\n",
    "    FuncADLQueryPHYSLITE()\n",
    "    .Select(lambda e: e.Vertices(\"BPHY4Quads\"))\n",
    "    .Select(\n",
    "        lambda vtxs: {\n",
    "            \"x\": vtxs.Select(lambda v: v.x()),\n",
    "            # \"QUAD_Muon0\": vtxs.Select(lambda v: v.auxdataConst(\"MuonLinks\")[0].pt())\n",
    "        }\n",
    "    )\n",
    ")"
   ]
  },
  {
   "cell_type": "markdown",
   "metadata": {},
   "source": [
    "Next fetch the data"
   ]
  },
  {
   "cell_type": "code",
   "execution_count": 4,
   "metadata": {},
   "outputs": [],
   "source": [
    "import logging\n",
    "\n",
    "logging.basicConfig(level=logging.INFO)"
   ]
  },
  {
   "cell_type": "code",
   "execution_count": 14,
   "metadata": {},
   "outputs": [
    {
     "name": "stderr",
     "output_type": "stream",
     "text": [
      "INFO:servicex.servicex_client:Returning code generators from cache\n"
     ]
    },
    {
     "data": {
      "application/vnd.jupyter.widget-view+json": {
       "model_id": "f719921be4c44c0ea540367d08ffd7dd",
       "version_major": 2,
       "version_minor": 0
      },
      "text/plain": [
       "Output()"
      ]
     },
     "metadata": {},
     "output_type": "display_data"
    },
    {
     "name": "stderr",
     "output_type": "stream",
     "text": [
      "WARNING:servicex_local.science_images:x509up certificate not found at /tmp/x509up\n"
     ]
    },
    {
     "data": {
      "text/html": [
       "<pre style=\"white-space:pre;overflow-x:auto;line-height:normal;font-family:Menlo,'DejaVu Sans Mono',consolas,'Courier New',monospace\"></pre>\n"
      ],
      "text/plain": []
     },
     "metadata": {},
     "output_type": "display_data"
    }
   ],
   "source": [
    "from servicex import deliver\n",
    "\n",
    "request = {\n",
    "    \"Sample\": [\n",
    "        {\n",
    "            \"Name\": \"TestBLSQuadMu0\",\n",
    "            \"Dataset\": ds,\n",
    "            \"Query\": query,\n",
    "            \"Codegen\": \"atlasr22-local\",\n",
    "            \"IgnoreLocalCache\": True,\n",
    "        }\n",
    "    ]\n",
    "}\n",
    "\n",
    "result = deliver(request, servicex_name=backend_name)"
   ]
  },
  {
   "cell_type": "code",
   "execution_count": 15,
   "metadata": {},
   "outputs": [
    {
     "ename": "ReturnValueException",
     "evalue": "Exception occurred while making ServiceX request.\nTraceback (most recent call last):\n  File \"c:\\Users\\gordo\\Code\\iris-hep\\bls_example\\.venv\\Lib\\site-packages\\servicex_local\\science_images.py\", line 176, in transform\n    subprocess.run(\n    ~~~~~~~~~~~~~~^\n        [\n        ^\n    ...<18 lines>...\n        stderr=subprocess.PIPE,\n        ^^^^^^^^^^^^^^^^^^^^^^^\n    )\n    ^\n  File \"C:\\Users\\gordo\\AppData\\Local\\Programs\\Python\\Python313\\Lib\\subprocess.py\", line 577, in run\n    raise CalledProcessError(retcode, process.args,\n                             output=stdout, stderr=stderr)\nsubprocess.CalledProcessError: Command '['docker', 'run', '--name', 'sx_codegen_container_sslhep_servicex_func_adl_xaod_transformer_22.2.107_DAOD_BPHY4.35498368._000001.pool.root', '--rm', '-v', 'C:\\\\Users\\\\gordo\\\\AppData\\\\Local\\\\Temp\\\\tmpdixdjxa5:/generated', '-v', 'C:\\\\Users\\\\gordo\\\\AppData\\\\Local\\\\Temp\\\\servicex\\\\9481a1d9-30a3-4878-a340-37d239907ce9:/servicex/output', 'sslhep/servicex_func_adl_xaod_transformer:22.2.107', 'bash', '/generated/transform_single_file.sh', 'c:\\\\Users\\\\gordo\\\\Code\\\\iris-hep\\\\bls_example\\\\DAOD_BPHY4.35498368._000001.pool.root.1', '/servicex/output/DAOD_BPHY4.35498368._000001.pool.root.1', 'root_ttree']' returned non-zero exit status 1.\n\nDuring handling of the above exception, another exception occurred:\n\nTraceback (most recent call last):\n  File \"c:\\Users\\gordo\\Code\\iris-hep\\bls_example\\.venv\\Lib\\site-packages\\servicex\\query_core.py\", line 589, in as_files_async\n    return await self.submit_and_download(\n           ^^^^^^^^^^^^^^^^^^^^^^^^^^^^^^^\n        signed_urls_only=False, expandable_progress=progress\n        ^^^^^^^^^^^^^^^^^^^^^^^^^^^^^^^^^^^^^^^^^^^^^^^^^^^^\n    )\n    ^\n  File \"c:\\Users\\gordo\\Code\\iris-hep\\bls_example\\.venv\\Lib\\site-packages\\servicex\\query_core.py\", line 312, in submit_and_download\n    self.request_id = await self.servicex.submit_transform(sx_request)\n                      ^^^^^^^^^^^^^^^^^^^^^^^^^^^^^^^^^^^^^^^^^^^^^^^^\n  File \"c:\\Users\\gordo\\Code\\iris-hep\\bls_example\\.venv\\Lib\\site-packages\\servicex_local\\adaptor.py\", line 140, in submit_transform\n    output_files = self.science_runner.transform(\n        generated_files_dir, input_files, output_directory, output_format\n    )\n  File \"c:\\Users\\gordo\\Code\\iris-hep\\bls_example\\.venv\\Lib\\site-packages\\servicex_local\\science_images.py\", line 201, in transform\n    raise RuntimeError(\n    ...<2 lines>...\n    )\nRuntimeError: Failed to start docker container for c:\\Users\\gordo\\Code\\iris-hep\\bls_example\\DAOD_BPHY4.35498368._000001.pool.root.1: \n",
     "output_type": "error",
     "traceback": [
      "\u001b[1;31m---------------------------------------------------------------------------\u001b[0m",
      "\u001b[1;31mReturnValueException\u001b[0m                      Traceback (most recent call last)",
      "Cell \u001b[1;32mIn[15], line 1\u001b[0m\n\u001b[1;32m----> 1\u001b[0m \u001b[43mresult\u001b[49m\u001b[43m[\u001b[49m\u001b[38;5;124;43m'\u001b[39;49m\u001b[38;5;124;43mTestBLSQuadMu0\u001b[39;49m\u001b[38;5;124;43m'\u001b[39;49m\u001b[43m]\u001b[49m\u001b[43m[\u001b[49m\u001b[38;5;241;43m0\u001b[39;49m\u001b[43m]\u001b[49m\n",
      "File \u001b[1;32mc:\\Users\\gordo\\Code\\iris-hep\\bls_example\\.venv\\Lib\\site-packages\\servicex\\servicex_client.py:80\u001b[0m, in \u001b[0;36mGuardList.__getitem__\u001b[1;34m(self, index)\u001b[0m\n\u001b[0;32m     78\u001b[0m \u001b[38;5;28;01mif\u001b[39;00m \u001b[38;5;129;01mnot\u001b[39;00m \u001b[38;5;28mself\u001b[39m\u001b[38;5;241m.\u001b[39mvalid():\n\u001b[0;32m     79\u001b[0m     data \u001b[38;5;241m=\u001b[39m cast(\u001b[38;5;167;01mException\u001b[39;00m, \u001b[38;5;28mself\u001b[39m\u001b[38;5;241m.\u001b[39m_data)\n\u001b[1;32m---> 80\u001b[0m     \u001b[38;5;28;01mraise\u001b[39;00m data\n\u001b[0;32m     81\u001b[0m \u001b[38;5;28;01melse\u001b[39;00m:\n\u001b[0;32m     82\u001b[0m     data \u001b[38;5;241m=\u001b[39m cast(Sequence, \u001b[38;5;28mself\u001b[39m\u001b[38;5;241m.\u001b[39m_data)\n",
      "\u001b[1;31mReturnValueException\u001b[0m: Exception occurred while making ServiceX request.\nTraceback (most recent call last):\n  File \"c:\\Users\\gordo\\Code\\iris-hep\\bls_example\\.venv\\Lib\\site-packages\\servicex_local\\science_images.py\", line 176, in transform\n    subprocess.run(\n    ~~~~~~~~~~~~~~^\n        [\n        ^\n    ...<18 lines>...\n        stderr=subprocess.PIPE,\n        ^^^^^^^^^^^^^^^^^^^^^^^\n    )\n    ^\n  File \"C:\\Users\\gordo\\AppData\\Local\\Programs\\Python\\Python313\\Lib\\subprocess.py\", line 577, in run\n    raise CalledProcessError(retcode, process.args,\n                             output=stdout, stderr=stderr)\nsubprocess.CalledProcessError: Command '['docker', 'run', '--name', 'sx_codegen_container_sslhep_servicex_func_adl_xaod_transformer_22.2.107_DAOD_BPHY4.35498368._000001.pool.root', '--rm', '-v', 'C:\\\\Users\\\\gordo\\\\AppData\\\\Local\\\\Temp\\\\tmpdixdjxa5:/generated', '-v', 'C:\\\\Users\\\\gordo\\\\AppData\\\\Local\\\\Temp\\\\servicex\\\\9481a1d9-30a3-4878-a340-37d239907ce9:/servicex/output', 'sslhep/servicex_func_adl_xaod_transformer:22.2.107', 'bash', '/generated/transform_single_file.sh', 'c:\\\\Users\\\\gordo\\\\Code\\\\iris-hep\\\\bls_example\\\\DAOD_BPHY4.35498368._000001.pool.root.1', '/servicex/output/DAOD_BPHY4.35498368._000001.pool.root.1', 'root_ttree']' returned non-zero exit status 1.\n\nDuring handling of the above exception, another exception occurred:\n\nTraceback (most recent call last):\n  File \"c:\\Users\\gordo\\Code\\iris-hep\\bls_example\\.venv\\Lib\\site-packages\\servicex\\query_core.py\", line 589, in as_files_async\n    return await self.submit_and_download(\n           ^^^^^^^^^^^^^^^^^^^^^^^^^^^^^^^\n        signed_urls_only=False, expandable_progress=progress\n        ^^^^^^^^^^^^^^^^^^^^^^^^^^^^^^^^^^^^^^^^^^^^^^^^^^^^\n    )\n    ^\n  File \"c:\\Users\\gordo\\Code\\iris-hep\\bls_example\\.venv\\Lib\\site-packages\\servicex\\query_core.py\", line 312, in submit_and_download\n    self.request_id = await self.servicex.submit_transform(sx_request)\n                      ^^^^^^^^^^^^^^^^^^^^^^^^^^^^^^^^^^^^^^^^^^^^^^^^\n  File \"c:\\Users\\gordo\\Code\\iris-hep\\bls_example\\.venv\\Lib\\site-packages\\servicex_local\\adaptor.py\", line 140, in submit_transform\n    output_files = self.science_runner.transform(\n        generated_files_dir, input_files, output_directory, output_format\n    )\n  File \"c:\\Users\\gordo\\Code\\iris-hep\\bls_example\\.venv\\Lib\\site-packages\\servicex_local\\science_images.py\", line 201, in transform\n    raise RuntimeError(\n    ...<2 lines>...\n    )\nRuntimeError: Failed to start docker container for c:\\Users\\gordo\\Code\\iris-hep\\bls_example\\DAOD_BPHY4.35498368._000001.pool.root.1: \n"
     ]
    }
   ],
   "source": [
    "result['TestBLSQuadMu0'][0]"
   ]
  },
  {
   "cell_type": "markdown",
   "metadata": {},
   "source": []
  },
  {
   "cell_type": "markdown",
   "metadata": {},
   "source": [
    "Old code we are working from\n",
    "\n",
    "```python\n",
    "\n",
    "from servicex import deliver, query as q, dataset as d\n",
    "import uproot\n",
    "import hist\n",
    "import mplhep\n",
    "import awkward as ak\n",
    "import vector\n",
    "from func_adl_servicex_xaodr22 import (\n",
    "    FuncADLQueryPHYSLITE,\n",
    "    cpp_float,\n",
    "    cpp_string,\n",
    "    tdt_chain_fired,\n",
    "    calib_tools,\n",
    "    cpp_vfloat,\n",
    ")\n",
    "\n",
    "DS = \"user.ponyisi:user.ponyisi.mc23_13p6TeV.524546.MGPy8EG_23lo_S4b18p4NJ0_Upsi1S2mu_4mu_3pt2_v2.deriv.DAOD_BPHY4.e8548_a911_r14908_p5923\"\n",
    "\n",
    "vector.register_awkward()\n",
    "\n",
    "query = FuncADLQueryPHYSLITE()\n",
    "\n",
    "# query = calib_tools.query_update(query, muon_working_point='Medium')\n",
    "query = query.Select(\n",
    "    lambda e: {\n",
    "        \"evt\": e.EventInfo(\"EventInfo\"),\n",
    "        \"quads\": e.Vertices(\"BPHY4Quads\"),\n",
    "        \"muons\": e.Muons(\"Muons\"),\n",
    "    }\n",
    ")\n",
    "query = query.Select(\n",
    "    lambda e: {\n",
    "        \"eventNumber\": e.evt.eventNumber(),\n",
    "        \"QUAD_mass\": e.quads.Select(lambda q: q.auxdataConst[cpp_float](\"QUAD_mass\")),\n",
    "        \"QUAD_ChargeCode\": e.quads.Select(\n",
    "            lambda q: q.auxdataConst[cpp_string](\"ChargeCode\")\n",
    "        ),\n",
    "        \"QUAD_CombinationCode\": e.quads.Select(\n",
    "            lambda q: q.auxdataConst[cpp_string](\"CombinationCode\")\n",
    "        ),\n",
    "        \"QUAD_RefTrackPx\": e.quads.Select(\n",
    "            lambda q: q.auxdataConst[cpp_vfloat](\"RefTrackPx\")\n",
    "        ),\n",
    "        \"QUAD_RefTrackPy\": e.quads.Select(\n",
    "            lambda q: q.auxdataConst[cpp_vfloat](\"RefTrackPy\")\n",
    "        ),\n",
    "        \"QUAD_RefTrackPz\": e.quads.Select(\n",
    "            lambda q: q.auxdataConst[cpp_vfloat](\"RefTrackPz\")\n",
    "        ),\n",
    "        \"QUAD_chi2\": e.quads.Select(lambda q: q.chiSquared()),\n",
    "        \"QUAD_dof\": e.quads.Select(lambda q: q.numberDoF()),\n",
    "        \"mu_pt\": e.muons.Select(lambda q: q.pt()),\n",
    "        \"mu_eta\": e.muons.Select(lambda q: q.eta()),\n",
    "        \"mu_phi\": e.muons.Select(lambda q: q.phi()),\n",
    "        # \"QUAD_Muon0\": e.quads.Select(lambda q: q.auxdataConst[\"std::vector<ElementLink<xAOD::MuonContainer>>\"](\"MuonLinks\")[0].pt()),\n",
    "        \"HLT_mu4_ivarloose_mu4_mu3noL1\": tdt_chain_fired(\n",
    "            \"HLT_mu4_ivarloose_mu4_mu3noL1_L1BPH-7M14-0DR25-MU5VFMU3VF\"\n",
    "        ),\n",
    "        \"HLT_2mu4_ivarloose\": tdt_chain_fired(\n",
    "            \"HLT_2mu4_ivarloose_L1BPH-7M14-0DR25-MU5VFMU3VF\"\n",
    "        ),\n",
    "        \"HLT_2mu4\": tdt_chain_fired(\"HLT_2mu4_L1BPH-7M11-25DR99-2MU3VF\"),\n",
    "        \"HLT_3mu4_bUpsi\": tdt_chain_fired(\"HLT_3mu4_bUpsi_L13MU3VF\"),\n",
    "        \"HLT_2mu6_bUpsimumu\": tdt_chain_fired(\n",
    "            \"HLT_2mu6_bUpsimumu_L1BPH-8M15-0DR22-2MU5VF\"\n",
    "        ),\n",
    "        \"HLT_mu11_mu6_bDimu\": tdt_chain_fired(\"HLT_mu11_mu6_bDimu_L1MU8VF_2MU5VF\"),\n",
    "    }\n",
    ")\n",
    "\n",
    "dssplit = DS.split(\".\")\n",
    "dsname = f\"bphy4.{dssplit[4]}.{dssplit[8]}\"\n",
    "\n",
    "request = {\n",
    "    \"Sample\": [\n",
    "        {\n",
    "            \"Name\": dsname,\n",
    "            \"Dataset\": d.Rucio(DS),\n",
    "            \"Query\": query,\n",
    "            \"Codegen\": \"atlasr22\",\n",
    "            # 'IgnoreLocalCache': True,\n",
    "        }\n",
    "    ]\n",
    "}\n",
    "```"
   ]
  }
 ],
 "metadata": {
  "kernelspec": {
   "display_name": ".venv",
   "language": "python",
   "name": "python3"
  },
  "language_info": {
   "codemirror_mode": {
    "name": "ipython",
    "version": 3
   },
   "file_extension": ".py",
   "mimetype": "text/x-python",
   "name": "python",
   "nbconvert_exporter": "python",
   "pygments_lexer": "ipython3",
   "version": "3.13.1"
  }
 },
 "nbformat": 4,
 "nbformat_minor": 2
}
