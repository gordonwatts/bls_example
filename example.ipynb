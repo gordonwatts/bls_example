{
 "cells": [
  {
   "cell_type": "markdown",
   "metadata": {},
   "source": [
    "# Accessing BLS data\n",
    "\n",
    "There is at least one type that required some special attention in a BLS file as it was not listed in the `xAOD` EDM. To fix this, there is now a [special file](https://github.com/gordonwatts/func-adl-types-atlas/blob/main/scripts/required_classes.txt) that contains a list of `extra` types.\n",
    "\n",
    "This demo shows how to use those classes."
   ]
  },
  {
   "cell_type": "markdown",
   "metadata": {},
   "source": [
    "## Local ServiceX Against a file\n",
    "\n",
    "This file was taken from the dataset `user.ponyisi:user.ponyisi.mc23_13p6TeV.524546.MGPy8EG_23lo_S4b18p4NJ0_Upsi1S2mu_4mu_3pt2_v2.deriv.DAOD_BPHY4.e8548_a911_r14908_p5923`. Any BLS file should work."
   ]
  },
  {
   "cell_type": "code",
   "execution_count": 1,
   "metadata": {},
   "outputs": [],
   "source": [
    "from pathlib import Path\n",
    "from servicex import dataset\n",
    "\n",
    "\n",
    "file = Path(\"DAOD_BPHY4.35498368._000001.pool.root.1\").absolute()\n",
    "\n",
    "assert file.exists()\n",
    "\n",
    "ds = dataset.FileList([str(file)])"
   ]
  },
  {
   "cell_type": "markdown",
   "metadata": {},
   "source": [
    "Next, lets create the local sx instance (for testing)."
   ]
  },
  {
   "cell_type": "code",
   "execution_count": 2,
   "metadata": {},
   "outputs": [],
   "source": [
    "from servicex_local import (\n",
    "    LocalXAODCodegen,\n",
    "    SXLocalAdaptor,\n",
    "    WSL2ScienceImage,\n",
    "    DockerScienceImage\n",
    ")\n",
    "from servicex.configuration import Configuration, Endpoint\n",
    "from servicex_local.adaptor import MinioLocalAdaptor\n",
    "\n",
    "codegen_name = \"atlasr22-local\"\n",
    "backend_name = \"local-backend\"\n",
    "\n",
    "codegen = LocalXAODCodegen()\n",
    "# science_runner = WSL2ScienceImage(\"atlas_al9\", \"25.2.12\")\n",
    "science_runner = DockerScienceImage(\n",
    "    \"sslhep/servicex_func_adl_xaod_transformer:22.2.107\"\n",
    ")\n",
    "adaptor = SXLocalAdaptor(codegen, science_runner, codegen_name, \"http://localhost:5001\")\n",
    "\n",
    "Configuration.register_endpoint(\n",
    "    Endpoint(\n",
    "        name=backend_name,\n",
    "        adapter=adaptor,\n",
    "        minio=MinioLocalAdaptor.for_transform,  # type: ignore\n",
    "        endpoint=\"bogus\",\n",
    "    )\n",
    ")"
   ]
  },
  {
   "cell_type": "markdown",
   "metadata": {},
   "source": [
    "## The BLS query that fetches just the orphaned type data\n",
    "\n",
    "We have to declare the type first."
   ]
  },
  {
   "cell_type": "code",
   "execution_count": 7,
   "metadata": {},
   "outputs": [],
   "source": [
    "from func_adl_servicex_xaodr22 import FuncADLQueryPHYSLITE, cpp_vfloat\n",
    "\n",
    "query = (\n",
    "    FuncADLQueryPHYSLITE()\n",
    "    .Select(lambda e: e.Vertices(\"BPHY4Quads\"))\n",
    "    .Select(\n",
    "        lambda vtxs: {\n",
    "            \"x\": vtxs.Select(lambda v: v.x()),\n",
    "            \"QUAD_Muon0\": vtxs.Select(\n",
    "                lambda v: v.auxdataConst[cpp_vfloat](\"MuonLinks\")[0].pt()\n",
    "            ),\n",
    "        }\n",
    "    )\n",
    ")"
   ]
  },
  {
   "cell_type": "markdown",
   "metadata": {},
   "source": [
    "Next fetch the data"
   ]
  },
  {
   "cell_type": "code",
   "execution_count": 8,
   "metadata": {},
   "outputs": [],
   "source": [
    "# import logging\n",
    "\n",
    "# logging.basicConfig(level=logging.DEBUG)"
   ]
  },
  {
   "cell_type": "code",
   "execution_count": 9,
   "metadata": {},
   "outputs": [
    {
     "data": {
      "application/vnd.jupyter.widget-view+json": {
       "model_id": "74481ed1892942258dc1edfae9e9ac04",
       "version_major": 2,
       "version_minor": 0
      },
      "text/plain": [
       "Output()"
      ]
     },
     "metadata": {},
     "output_type": "display_data"
    },
    {
     "data": {
      "text/html": [
       "<pre style=\"white-space:pre;overflow-x:auto;line-height:normal;font-family:Menlo,'DejaVu Sans Mono',consolas,'Courier New',monospace\"></pre>\n"
      ],
      "text/plain": []
     },
     "metadata": {},
     "output_type": "display_data"
    }
   ],
   "source": [
    "from servicex import deliver\n",
    "\n",
    "request = {\n",
    "    \"Sample\": [\n",
    "        {\n",
    "            \"Name\": \"TestBLSQuadMu0\",\n",
    "            \"Dataset\": ds,\n",
    "            \"Query\": query,\n",
    "            \"Codegen\": \"atlasr22-local\",\n",
    "            \"IgnoreLocalCache\": True,\n",
    "        }\n",
    "    ]\n",
    "}\n",
    "\n",
    "result = deliver(request, servicex_name=backend_name)"
   ]
  },
  {
   "cell_type": "code",
   "execution_count": 10,
   "metadata": {},
   "outputs": [
    {
     "ename": "ReturnValueException",
     "evalue": "Exception occurred while making ServiceX request.\nTraceback (most recent call last):\n  File \"c:\\Users\\gordo\\Code\\iris-hep\\bls_example\\.venv\\Lib\\site-packages\\servicex\\query_core.py\", line 589, in as_files_async\n    return await self.submit_and_download(\n           ^^^^^^^^^^^^^^^^^^^^^^^^^^^^^^^\n        signed_urls_only=False, expandable_progress=progress\n        ^^^^^^^^^^^^^^^^^^^^^^^^^^^^^^^^^^^^^^^^^^^^^^^^^^^^\n    )\n    ^\n  File \"c:\\Users\\gordo\\Code\\iris-hep\\bls_example\\.venv\\Lib\\site-packages\\servicex\\query_core.py\", line 312, in submit_and_download\n    self.request_id = await self.servicex.submit_transform(sx_request)\n                      ^^^^^^^^^^^^^^^^^^^^^^^^^^^^^^^^^^^^^^^^^^^^^^^^\n  File \"c:\\Users\\gordo\\Code\\iris-hep\\bls_example\\.venv\\Lib\\site-packages\\servicex_local\\adaptor.py\", line 125, in submit_transform\n    self.codegen.gen_code(transform_request.selection, generated_files_dir)\n    ~~~~~~~~~~~~~~~~~~~~~^^^^^^^^^^^^^^^^^^^^^^^^^^^^^^^^^^^^^^^^^^^^^^^^^^\n  File \"c:\\Users\\gordo\\Code\\iris-hep\\bls_example\\.venv\\Lib\\site-packages\\servicex_local\\codegen.py\", line 83, in gen_code\n    exe.write_cpp_files(exe.apply_ast_transformations(a), directory)\n    ~~~~~~~~~~~~~~~~~~~^^^^^^^^^^^^^^^^^^^^^^^^^^^^^^^^^^^^^^^^^^^^^\n  File \"c:\\Users\\gordo\\Code\\iris-hep\\bls_example\\.venv\\Lib\\site-packages\\func_adl_xAOD\\common\\executor.py\", line 279, in write_cpp_files\n    result_rep = qv.get_rep(ast) if _is_format_request(ast) else qv.get_as_ROOT(ast)\n                                                                 ~~~~~~~~~~~~~~^^^^^\n  File \"c:\\Users\\gordo\\Code\\iris-hep\\bls_example\\.venv\\Lib\\site-packages\\func_adl_xAOD\\common\\ast_to_cpp_translator.py\", line 242, in get_as_ROOT\n    r = self.get_rep(node)\n  File \"c:\\Users\\gordo\\Code\\iris-hep\\bls_example\\.venv\\Lib\\site-packages\\func_adl_xAOD\\common\\ast_to_cpp_translator.py\", line 196, in get_rep\n    self.visit(node)\n    ~~~~~~~~~~^^^^^^\n  File \"c:\\Users\\gordo\\Code\\iris-hep\\bls_example\\.venv\\Lib\\site-packages\\func_adl_xAOD\\common\\ast_to_cpp_translator.py\", line 182, in visit\n    FuncADLNodeVisitor.visit(self, node)\n    ~~~~~~~~~~~~~~~~~~~~~~~~^^^^^^^^^^^^\n  File \"C:\\Users\\gordo\\AppData\\Local\\Programs\\Python\\Python313\\Lib\\ast.py\", line 428, in visit\n    return visitor(node)\n  File \"c:\\Users\\gordo\\Code\\iris-hep\\bls_example\\.venv\\Lib\\site-packages\\func_adl_xAOD\\common\\ast_to_cpp_translator.py\", line 691, in visit_Call\n    r = FuncADLNodeVisitor.visit_Call(self, call_node)\n  File \"c:\\Users\\gordo\\Code\\iris-hep\\bls_example\\.venv\\Lib\\site-packages\\func_adl\\ast\\func_adl_ast_utils.py\", line 78, in visit_Call\n    return visitor(node, args)\n  File \"c:\\Users\\gordo\\Code\\iris-hep\\bls_example\\.venv\\Lib\\site-packages\\func_adl_xAOD\\common\\ast_to_cpp_translator.py\", line 1189, in call_Select\n    new_sequence_value = cast(crep.cpp_value, self.get_rep(c))\n                                              ~~~~~~~~~~~~^^^\n  File \"c:\\Users\\gordo\\Code\\iris-hep\\bls_example\\.venv\\Lib\\site-packages\\func_adl_xAOD\\common\\ast_to_cpp_translator.py\", line 196, in get_rep\n    self.visit(node)\n    ~~~~~~~~~~^^^^^^\n  File \"c:\\Users\\gordo\\Code\\iris-hep\\bls_example\\.venv\\Lib\\site-packages\\func_adl_xAOD\\common\\ast_to_cpp_translator.py\", line 182, in visit\n    FuncADLNodeVisitor.visit(self, node)\n    ~~~~~~~~~~~~~~~~~~~~~~~~^^^^^^^^^^^^\n  File \"C:\\Users\\gordo\\AppData\\Local\\Programs\\Python\\Python313\\Lib\\ast.py\", line 428, in visit\n    return visitor(node)\n  File \"c:\\Users\\gordo\\Code\\iris-hep\\bls_example\\.venv\\Lib\\site-packages\\func_adl_xAOD\\common\\ast_to_cpp_translator.py\", line 682, in visit_Call\n    self.visit_Call_Lambda(call_node)\n    ~~~~~~~~~~~~~~~~~~~~~~^^^^^^^^^^^\n  File \"c:\\Users\\gordo\\Code\\iris-hep\\bls_example\\.venv\\Lib\\site-packages\\func_adl_xAOD\\common\\ast_to_cpp_translator.py\", line 392, in visit_Call_Lambda\n    crep.set_rep(call_node, self.get_rep(call_node.func.body))\n                            ~~~~~~~~~~~~^^^^^^^^^^^^^^^^^^^^^\n  File \"c:\\Users\\gordo\\Code\\iris-hep\\bls_example\\.venv\\Lib\\site-packages\\func_adl_xAOD\\common\\ast_to_cpp_translator.py\", line 196, in get_rep\n    self.visit(node)\n    ~~~~~~~~~~^^^^^^\n  File \"c:\\Users\\gordo\\Code\\iris-hep\\bls_example\\.venv\\Lib\\site-packages\\func_adl_xAOD\\common\\ast_to_cpp_translator.py\", line 182, in visit\n    FuncADLNodeVisitor.visit(self, node)\n    ~~~~~~~~~~~~~~~~~~~~~~~~^^^^^^^^^^^^\n  File \"C:\\Users\\gordo\\AppData\\Local\\Programs\\Python\\Python313\\Lib\\ast.py\", line 428, in visit\n    return visitor(node)\n  File \"c:\\Users\\gordo\\Code\\iris-hep\\bls_example\\.venv\\Lib\\site-packages\\func_adl_xAOD\\common\\ast_to_cpp_translator.py\", line 764, in visit_Dict\n    k: self.get_rep(v, retain_scope=True)\n       ~~~~~~~~~~~~^^^^^^^^^^^^^^^^^^^^^^\n  File \"c:\\Users\\gordo\\Code\\iris-hep\\bls_example\\.venv\\Lib\\site-packages\\func_adl_xAOD\\common\\ast_to_cpp_translator.py\", line 196, in get_rep\n    self.visit(node)\n    ~~~~~~~~~~^^^^^^\n  File \"c:\\Users\\gordo\\Code\\iris-hep\\bls_example\\.venv\\Lib\\site-packages\\func_adl_xAOD\\common\\ast_to_cpp_translator.py\", line 182, in visit\n    FuncADLNodeVisitor.visit(self, node)\n    ~~~~~~~~~~~~~~~~~~~~~~~~^^^^^^^^^^^^\n  File \"C:\\Users\\gordo\\AppData\\Local\\Programs\\Python\\Python313\\Lib\\ast.py\", line 428, in visit\n    return visitor(node)\n  File \"c:\\Users\\gordo\\Code\\iris-hep\\bls_example\\.venv\\Lib\\site-packages\\func_adl_xAOD\\common\\ast_to_cpp_translator.py\", line 691, in visit_Call\n    r = FuncADLNodeVisitor.visit_Call(self, call_node)\n  File \"c:\\Users\\gordo\\Code\\iris-hep\\bls_example\\.venv\\Lib\\site-packages\\func_adl\\ast\\func_adl_ast_utils.py\", line 78, in visit_Call\n    return visitor(node, args)\n  File \"c:\\Users\\gordo\\Code\\iris-hep\\bls_example\\.venv\\Lib\\site-packages\\func_adl_xAOD\\common\\ast_to_cpp_translator.py\", line 1189, in call_Select\n    new_sequence_value = cast(crep.cpp_value, self.get_rep(c))\n                                              ~~~~~~~~~~~~^^^\n  File \"c:\\Users\\gordo\\Code\\iris-hep\\bls_example\\.venv\\Lib\\site-packages\\func_adl_xAOD\\common\\ast_to_cpp_translator.py\", line 196, in get_rep\n    self.visit(node)\n    ~~~~~~~~~~^^^^^^\n  File \"c:\\Users\\gordo\\Code\\iris-hep\\bls_example\\.venv\\Lib\\site-packages\\func_adl_xAOD\\common\\ast_to_cpp_translator.py\", line 182, in visit\n    FuncADLNodeVisitor.visit(self, node)\n    ~~~~~~~~~~~~~~~~~~~~~~~~^^^^^^^^^^^^\n  File \"C:\\Users\\gordo\\AppData\\Local\\Programs\\Python\\Python313\\Lib\\ast.py\", line 428, in visit\n    return visitor(node)\n  File \"c:\\Users\\gordo\\Code\\iris-hep\\bls_example\\.venv\\Lib\\site-packages\\func_adl_xAOD\\common\\ast_to_cpp_translator.py\", line 682, in visit_Call\n    self.visit_Call_Lambda(call_node)\n    ~~~~~~~~~~~~~~~~~~~~~~^^^^^^^^^^^\n  File \"c:\\Users\\gordo\\Code\\iris-hep\\bls_example\\.venv\\Lib\\site-packages\\func_adl_xAOD\\common\\ast_to_cpp_translator.py\", line 392, in visit_Call_Lambda\n    crep.set_rep(call_node, self.get_rep(call_node.func.body))\n                            ~~~~~~~~~~~~^^^^^^^^^^^^^^^^^^^^^\n  File \"c:\\Users\\gordo\\Code\\iris-hep\\bls_example\\.venv\\Lib\\site-packages\\func_adl_xAOD\\common\\ast_to_cpp_translator.py\", line 196, in get_rep\n    self.visit(node)\n    ~~~~~~~~~~^^^^^^\n  File \"c:\\Users\\gordo\\Code\\iris-hep\\bls_example\\.venv\\Lib\\site-packages\\func_adl_xAOD\\common\\ast_to_cpp_translator.py\", line 182, in visit\n    FuncADLNodeVisitor.visit(self, node)\n    ~~~~~~~~~~~~~~~~~~~~~~~~^^^^^^^^^^^^\n  File \"C:\\Users\\gordo\\AppData\\Local\\Programs\\Python\\Python313\\Lib\\ast.py\", line 428, in visit\n    return visitor(node)\n  File \"c:\\Users\\gordo\\Code\\iris-hep\\bls_example\\.venv\\Lib\\site-packages\\func_adl_xAOD\\common\\ast_to_cpp_translator.py\", line 684, in visit_Call\n    self.visit_Call_Member(call_node)\n    ~~~~~~~~~~~~~~~~~~~~~~^^^^^^^^^^^\n  File \"c:\\Users\\gordo\\Code\\iris-hep\\bls_example\\.venv\\Lib\\site-packages\\func_adl_xAOD\\common\\ast_to_cpp_translator.py\", line 635, in visit_Call_Member\n    m_info = determine_type_mf(calling_against.cpp_type(), function_name)\n  File \"c:\\Users\\gordo\\Code\\iris-hep\\bls_example\\.venv\\Lib\\site-packages\\func_adl_xAOD\\common\\ast_to_cpp_translator.py\", line 118, in determine_type_mf\n    raise xAODTranslationError(\n        f\"Unable to call method {function_name} on type {str(parent_type)}.\"\n    )\nfunc_adl_xAOD.common.ast_to_cpp_translator.xAODTranslationError: Unable to call method pt on type float.\n",
     "output_type": "error",
     "traceback": [
      "\u001b[1;31m---------------------------------------------------------------------------\u001b[0m",
      "\u001b[1;31mReturnValueException\u001b[0m                      Traceback (most recent call last)",
      "Cell \u001b[1;32mIn[10], line 2\u001b[0m\n\u001b[0;32m      1\u001b[0m \u001b[38;5;28;01mimport\u001b[39;00m\u001b[38;5;250m \u001b[39m\u001b[38;5;21;01muproot\u001b[39;00m\n\u001b[1;32m----> 2\u001b[0m f \u001b[38;5;241m=\u001b[39m uproot\u001b[38;5;241m.\u001b[39mopen(\u001b[43mresult\u001b[49m\u001b[43m[\u001b[49m\u001b[38;5;124;43m'\u001b[39;49m\u001b[38;5;124;43mTestBLSQuadMu0\u001b[39;49m\u001b[38;5;124;43m'\u001b[39;49m\u001b[43m]\u001b[49m\u001b[43m[\u001b[49m\u001b[38;5;241;43m0\u001b[39;49m\u001b[43m]\u001b[49m)\n\u001b[0;32m      3\u001b[0m tree \u001b[38;5;241m=\u001b[39m f[\u001b[38;5;124m'\u001b[39m\u001b[38;5;124matlas_xaod_tree\u001b[39m\u001b[38;5;124m'\u001b[39m]\n\u001b[0;32m      4\u001b[0m tree\u001b[38;5;241m.\u001b[39mkeys()\n",
      "File \u001b[1;32mc:\\Users\\gordo\\Code\\iris-hep\\bls_example\\.venv\\Lib\\site-packages\\servicex\\servicex_client.py:80\u001b[0m, in \u001b[0;36mGuardList.__getitem__\u001b[1;34m(self, index)\u001b[0m\n\u001b[0;32m     78\u001b[0m \u001b[38;5;28;01mif\u001b[39;00m \u001b[38;5;129;01mnot\u001b[39;00m \u001b[38;5;28mself\u001b[39m\u001b[38;5;241m.\u001b[39mvalid():\n\u001b[0;32m     79\u001b[0m     data \u001b[38;5;241m=\u001b[39m cast(\u001b[38;5;167;01mException\u001b[39;00m, \u001b[38;5;28mself\u001b[39m\u001b[38;5;241m.\u001b[39m_data)\n\u001b[1;32m---> 80\u001b[0m     \u001b[38;5;28;01mraise\u001b[39;00m data\n\u001b[0;32m     81\u001b[0m \u001b[38;5;28;01melse\u001b[39;00m:\n\u001b[0;32m     82\u001b[0m     data \u001b[38;5;241m=\u001b[39m cast(Sequence, \u001b[38;5;28mself\u001b[39m\u001b[38;5;241m.\u001b[39m_data)\n",
      "\u001b[1;31mReturnValueException\u001b[0m: Exception occurred while making ServiceX request.\nTraceback (most recent call last):\n  File \"c:\\Users\\gordo\\Code\\iris-hep\\bls_example\\.venv\\Lib\\site-packages\\servicex\\query_core.py\", line 589, in as_files_async\n    return await self.submit_and_download(\n           ^^^^^^^^^^^^^^^^^^^^^^^^^^^^^^^\n        signed_urls_only=False, expandable_progress=progress\n        ^^^^^^^^^^^^^^^^^^^^^^^^^^^^^^^^^^^^^^^^^^^^^^^^^^^^\n    )\n    ^\n  File \"c:\\Users\\gordo\\Code\\iris-hep\\bls_example\\.venv\\Lib\\site-packages\\servicex\\query_core.py\", line 312, in submit_and_download\n    self.request_id = await self.servicex.submit_transform(sx_request)\n                      ^^^^^^^^^^^^^^^^^^^^^^^^^^^^^^^^^^^^^^^^^^^^^^^^\n  File \"c:\\Users\\gordo\\Code\\iris-hep\\bls_example\\.venv\\Lib\\site-packages\\servicex_local\\adaptor.py\", line 125, in submit_transform\n    self.codegen.gen_code(transform_request.selection, generated_files_dir)\n    ~~~~~~~~~~~~~~~~~~~~~^^^^^^^^^^^^^^^^^^^^^^^^^^^^^^^^^^^^^^^^^^^^^^^^^^\n  File \"c:\\Users\\gordo\\Code\\iris-hep\\bls_example\\.venv\\Lib\\site-packages\\servicex_local\\codegen.py\", line 83, in gen_code\n    exe.write_cpp_files(exe.apply_ast_transformations(a), directory)\n    ~~~~~~~~~~~~~~~~~~~^^^^^^^^^^^^^^^^^^^^^^^^^^^^^^^^^^^^^^^^^^^^^\n  File \"c:\\Users\\gordo\\Code\\iris-hep\\bls_example\\.venv\\Lib\\site-packages\\func_adl_xAOD\\common\\executor.py\", line 279, in write_cpp_files\n    result_rep = qv.get_rep(ast) if _is_format_request(ast) else qv.get_as_ROOT(ast)\n                                                                 ~~~~~~~~~~~~~~^^^^^\n  File \"c:\\Users\\gordo\\Code\\iris-hep\\bls_example\\.venv\\Lib\\site-packages\\func_adl_xAOD\\common\\ast_to_cpp_translator.py\", line 242, in get_as_ROOT\n    r = self.get_rep(node)\n  File \"c:\\Users\\gordo\\Code\\iris-hep\\bls_example\\.venv\\Lib\\site-packages\\func_adl_xAOD\\common\\ast_to_cpp_translator.py\", line 196, in get_rep\n    self.visit(node)\n    ~~~~~~~~~~^^^^^^\n  File \"c:\\Users\\gordo\\Code\\iris-hep\\bls_example\\.venv\\Lib\\site-packages\\func_adl_xAOD\\common\\ast_to_cpp_translator.py\", line 182, in visit\n    FuncADLNodeVisitor.visit(self, node)\n    ~~~~~~~~~~~~~~~~~~~~~~~~^^^^^^^^^^^^\n  File \"C:\\Users\\gordo\\AppData\\Local\\Programs\\Python\\Python313\\Lib\\ast.py\", line 428, in visit\n    return visitor(node)\n  File \"c:\\Users\\gordo\\Code\\iris-hep\\bls_example\\.venv\\Lib\\site-packages\\func_adl_xAOD\\common\\ast_to_cpp_translator.py\", line 691, in visit_Call\n    r = FuncADLNodeVisitor.visit_Call(self, call_node)\n  File \"c:\\Users\\gordo\\Code\\iris-hep\\bls_example\\.venv\\Lib\\site-packages\\func_adl\\ast\\func_adl_ast_utils.py\", line 78, in visit_Call\n    return visitor(node, args)\n  File \"c:\\Users\\gordo\\Code\\iris-hep\\bls_example\\.venv\\Lib\\site-packages\\func_adl_xAOD\\common\\ast_to_cpp_translator.py\", line 1189, in call_Select\n    new_sequence_value = cast(crep.cpp_value, self.get_rep(c))\n                                              ~~~~~~~~~~~~^^^\n  File \"c:\\Users\\gordo\\Code\\iris-hep\\bls_example\\.venv\\Lib\\site-packages\\func_adl_xAOD\\common\\ast_to_cpp_translator.py\", line 196, in get_rep\n    self.visit(node)\n    ~~~~~~~~~~^^^^^^\n  File \"c:\\Users\\gordo\\Code\\iris-hep\\bls_example\\.venv\\Lib\\site-packages\\func_adl_xAOD\\common\\ast_to_cpp_translator.py\", line 182, in visit\n    FuncADLNodeVisitor.visit(self, node)\n    ~~~~~~~~~~~~~~~~~~~~~~~~^^^^^^^^^^^^\n  File \"C:\\Users\\gordo\\AppData\\Local\\Programs\\Python\\Python313\\Lib\\ast.py\", line 428, in visit\n    return visitor(node)\n  File \"c:\\Users\\gordo\\Code\\iris-hep\\bls_example\\.venv\\Lib\\site-packages\\func_adl_xAOD\\common\\ast_to_cpp_translator.py\", line 682, in visit_Call\n    self.visit_Call_Lambda(call_node)\n    ~~~~~~~~~~~~~~~~~~~~~~^^^^^^^^^^^\n  File \"c:\\Users\\gordo\\Code\\iris-hep\\bls_example\\.venv\\Lib\\site-packages\\func_adl_xAOD\\common\\ast_to_cpp_translator.py\", line 392, in visit_Call_Lambda\n    crep.set_rep(call_node, self.get_rep(call_node.func.body))\n                            ~~~~~~~~~~~~^^^^^^^^^^^^^^^^^^^^^\n  File \"c:\\Users\\gordo\\Code\\iris-hep\\bls_example\\.venv\\Lib\\site-packages\\func_adl_xAOD\\common\\ast_to_cpp_translator.py\", line 196, in get_rep\n    self.visit(node)\n    ~~~~~~~~~~^^^^^^\n  File \"c:\\Users\\gordo\\Code\\iris-hep\\bls_example\\.venv\\Lib\\site-packages\\func_adl_xAOD\\common\\ast_to_cpp_translator.py\", line 182, in visit\n    FuncADLNodeVisitor.visit(self, node)\n    ~~~~~~~~~~~~~~~~~~~~~~~~^^^^^^^^^^^^\n  File \"C:\\Users\\gordo\\AppData\\Local\\Programs\\Python\\Python313\\Lib\\ast.py\", line 428, in visit\n    return visitor(node)\n  File \"c:\\Users\\gordo\\Code\\iris-hep\\bls_example\\.venv\\Lib\\site-packages\\func_adl_xAOD\\common\\ast_to_cpp_translator.py\", line 764, in visit_Dict\n    k: self.get_rep(v, retain_scope=True)\n       ~~~~~~~~~~~~^^^^^^^^^^^^^^^^^^^^^^\n  File \"c:\\Users\\gordo\\Code\\iris-hep\\bls_example\\.venv\\Lib\\site-packages\\func_adl_xAOD\\common\\ast_to_cpp_translator.py\", line 196, in get_rep\n    self.visit(node)\n    ~~~~~~~~~~^^^^^^\n  File \"c:\\Users\\gordo\\Code\\iris-hep\\bls_example\\.venv\\Lib\\site-packages\\func_adl_xAOD\\common\\ast_to_cpp_translator.py\", line 182, in visit\n    FuncADLNodeVisitor.visit(self, node)\n    ~~~~~~~~~~~~~~~~~~~~~~~~^^^^^^^^^^^^\n  File \"C:\\Users\\gordo\\AppData\\Local\\Programs\\Python\\Python313\\Lib\\ast.py\", line 428, in visit\n    return visitor(node)\n  File \"c:\\Users\\gordo\\Code\\iris-hep\\bls_example\\.venv\\Lib\\site-packages\\func_adl_xAOD\\common\\ast_to_cpp_translator.py\", line 691, in visit_Call\n    r = FuncADLNodeVisitor.visit_Call(self, call_node)\n  File \"c:\\Users\\gordo\\Code\\iris-hep\\bls_example\\.venv\\Lib\\site-packages\\func_adl\\ast\\func_adl_ast_utils.py\", line 78, in visit_Call\n    return visitor(node, args)\n  File \"c:\\Users\\gordo\\Code\\iris-hep\\bls_example\\.venv\\Lib\\site-packages\\func_adl_xAOD\\common\\ast_to_cpp_translator.py\", line 1189, in call_Select\n    new_sequence_value = cast(crep.cpp_value, self.get_rep(c))\n                                              ~~~~~~~~~~~~^^^\n  File \"c:\\Users\\gordo\\Code\\iris-hep\\bls_example\\.venv\\Lib\\site-packages\\func_adl_xAOD\\common\\ast_to_cpp_translator.py\", line 196, in get_rep\n    self.visit(node)\n    ~~~~~~~~~~^^^^^^\n  File \"c:\\Users\\gordo\\Code\\iris-hep\\bls_example\\.venv\\Lib\\site-packages\\func_adl_xAOD\\common\\ast_to_cpp_translator.py\", line 182, in visit\n    FuncADLNodeVisitor.visit(self, node)\n    ~~~~~~~~~~~~~~~~~~~~~~~~^^^^^^^^^^^^\n  File \"C:\\Users\\gordo\\AppData\\Local\\Programs\\Python\\Python313\\Lib\\ast.py\", line 428, in visit\n    return visitor(node)\n  File \"c:\\Users\\gordo\\Code\\iris-hep\\bls_example\\.venv\\Lib\\site-packages\\func_adl_xAOD\\common\\ast_to_cpp_translator.py\", line 682, in visit_Call\n    self.visit_Call_Lambda(call_node)\n    ~~~~~~~~~~~~~~~~~~~~~~^^^^^^^^^^^\n  File \"c:\\Users\\gordo\\Code\\iris-hep\\bls_example\\.venv\\Lib\\site-packages\\func_adl_xAOD\\common\\ast_to_cpp_translator.py\", line 392, in visit_Call_Lambda\n    crep.set_rep(call_node, self.get_rep(call_node.func.body))\n                            ~~~~~~~~~~~~^^^^^^^^^^^^^^^^^^^^^\n  File \"c:\\Users\\gordo\\Code\\iris-hep\\bls_example\\.venv\\Lib\\site-packages\\func_adl_xAOD\\common\\ast_to_cpp_translator.py\", line 196, in get_rep\n    self.visit(node)\n    ~~~~~~~~~~^^^^^^\n  File \"c:\\Users\\gordo\\Code\\iris-hep\\bls_example\\.venv\\Lib\\site-packages\\func_adl_xAOD\\common\\ast_to_cpp_translator.py\", line 182, in visit\n    FuncADLNodeVisitor.visit(self, node)\n    ~~~~~~~~~~~~~~~~~~~~~~~~^^^^^^^^^^^^\n  File \"C:\\Users\\gordo\\AppData\\Local\\Programs\\Python\\Python313\\Lib\\ast.py\", line 428, in visit\n    return visitor(node)\n  File \"c:\\Users\\gordo\\Code\\iris-hep\\bls_example\\.venv\\Lib\\site-packages\\func_adl_xAOD\\common\\ast_to_cpp_translator.py\", line 684, in visit_Call\n    self.visit_Call_Member(call_node)\n    ~~~~~~~~~~~~~~~~~~~~~~^^^^^^^^^^^\n  File \"c:\\Users\\gordo\\Code\\iris-hep\\bls_example\\.venv\\Lib\\site-packages\\func_adl_xAOD\\common\\ast_to_cpp_translator.py\", line 635, in visit_Call_Member\n    m_info = determine_type_mf(calling_against.cpp_type(), function_name)\n  File \"c:\\Users\\gordo\\Code\\iris-hep\\bls_example\\.venv\\Lib\\site-packages\\func_adl_xAOD\\common\\ast_to_cpp_translator.py\", line 118, in determine_type_mf\n    raise xAODTranslationError(\n        f\"Unable to call method {function_name} on type {str(parent_type)}.\"\n    )\nfunc_adl_xAOD.common.ast_to_cpp_translator.xAODTranslationError: Unable to call method pt on type float.\n"
     ]
    }
   ],
   "source": [
    "import uproot\n",
    "f = uproot.open(result['TestBLSQuadMu0'][0])\n",
    "tree = f['atlas_xaod_tree']\n",
    "tree.keys()"
   ]
  },
  {
   "cell_type": "code",
   "execution_count": null,
   "metadata": {},
   "outputs": [],
   "source": [
    "tree['x'].array()"
   ]
  },
  {
   "cell_type": "markdown",
   "metadata": {},
   "source": [
    "Old code we are working from\n",
    "\n",
    "```python\n",
    "\n",
    "from servicex import deliver, query as q, dataset as d\n",
    "import uproot\n",
    "import hist\n",
    "import mplhep\n",
    "import awkward as ak\n",
    "import vector\n",
    "from func_adl_servicex_xaodr22 import (\n",
    "    FuncADLQueryPHYSLITE,\n",
    "    cpp_float,\n",
    "    cpp_string,\n",
    "    tdt_chain_fired,\n",
    "    calib_tools,\n",
    "    cpp_vfloat,\n",
    ")\n",
    "\n",
    "DS = \"user.ponyisi:user.ponyisi.mc23_13p6TeV.524546.MGPy8EG_23lo_S4b18p4NJ0_Upsi1S2mu_4mu_3pt2_v2.deriv.DAOD_BPHY4.e8548_a911_r14908_p5923\"\n",
    "\n",
    "vector.register_awkward()\n",
    "\n",
    "query = FuncADLQueryPHYSLITE()\n",
    "\n",
    "# query = calib_tools.query_update(query, muon_working_point='Medium')\n",
    "query = query.Select(\n",
    "    lambda e: {\n",
    "        \"evt\": e.EventInfo(\"EventInfo\"),\n",
    "        \"quads\": e.Vertices(\"BPHY4Quads\"),\n",
    "        \"muons\": e.Muons(\"Muons\"),\n",
    "    }\n",
    ")\n",
    "query = query.Select(\n",
    "    lambda e: {\n",
    "        \"eventNumber\": e.evt.eventNumber(),\n",
    "        \"QUAD_mass\": e.quads.Select(lambda q: q.auxdataConst[cpp_float](\"QUAD_mass\")),\n",
    "        \"QUAD_ChargeCode\": e.quads.Select(\n",
    "            lambda q: q.auxdataConst[cpp_string](\"ChargeCode\")\n",
    "        ),\n",
    "        \"QUAD_CombinationCode\": e.quads.Select(\n",
    "            lambda q: q.auxdataConst[cpp_string](\"CombinationCode\")\n",
    "        ),\n",
    "        \"QUAD_RefTrackPx\": e.quads.Select(\n",
    "            lambda q: q.auxdataConst[cpp_vfloat](\"RefTrackPx\")\n",
    "        ),\n",
    "        \"QUAD_RefTrackPy\": e.quads.Select(\n",
    "            lambda q: q.auxdataConst[cpp_vfloat](\"RefTrackPy\")\n",
    "        ),\n",
    "        \"QUAD_RefTrackPz\": e.quads.Select(\n",
    "            lambda q: q.auxdataConst[cpp_vfloat](\"RefTrackPz\")\n",
    "        ),\n",
    "        \"QUAD_chi2\": e.quads.Select(lambda q: q.chiSquared()),\n",
    "        \"QUAD_dof\": e.quads.Select(lambda q: q.numberDoF()),\n",
    "        \"mu_pt\": e.muons.Select(lambda q: q.pt()),\n",
    "        \"mu_eta\": e.muons.Select(lambda q: q.eta()),\n",
    "        \"mu_phi\": e.muons.Select(lambda q: q.phi()),\n",
    "        # \"QUAD_Muon0\": e.quads.Select(lambda q: q.auxdataConst[\"std::vector<ElementLink<xAOD::MuonContainer>>\"](\"MuonLinks\")[0].pt()),\n",
    "        \"HLT_mu4_ivarloose_mu4_mu3noL1\": tdt_chain_fired(\n",
    "            \"HLT_mu4_ivarloose_mu4_mu3noL1_L1BPH-7M14-0DR25-MU5VFMU3VF\"\n",
    "        ),\n",
    "        \"HLT_2mu4_ivarloose\": tdt_chain_fired(\n",
    "            \"HLT_2mu4_ivarloose_L1BPH-7M14-0DR25-MU5VFMU3VF\"\n",
    "        ),\n",
    "        \"HLT_2mu4\": tdt_chain_fired(\"HLT_2mu4_L1BPH-7M11-25DR99-2MU3VF\"),\n",
    "        \"HLT_3mu4_bUpsi\": tdt_chain_fired(\"HLT_3mu4_bUpsi_L13MU3VF\"),\n",
    "        \"HLT_2mu6_bUpsimumu\": tdt_chain_fired(\n",
    "            \"HLT_2mu6_bUpsimumu_L1BPH-8M15-0DR22-2MU5VF\"\n",
    "        ),\n",
    "        \"HLT_mu11_mu6_bDimu\": tdt_chain_fired(\"HLT_mu11_mu6_bDimu_L1MU8VF_2MU5VF\"),\n",
    "    }\n",
    ")\n",
    "\n",
    "dssplit = DS.split(\".\")\n",
    "dsname = f\"bphy4.{dssplit[4]}.{dssplit[8]}\"\n",
    "\n",
    "request = {\n",
    "    \"Sample\": [\n",
    "        {\n",
    "            \"Name\": dsname,\n",
    "            \"Dataset\": d.Rucio(DS),\n",
    "            \"Query\": query,\n",
    "            \"Codegen\": \"atlasr22\",\n",
    "            # 'IgnoreLocalCache': True,\n",
    "        }\n",
    "    ]\n",
    "}\n",
    "```"
   ]
  }
 ],
 "metadata": {
  "kernelspec": {
   "display_name": ".venv",
   "language": "python",
   "name": "python3"
  },
  "language_info": {
   "codemirror_mode": {
    "name": "ipython",
    "version": 3
   },
   "file_extension": ".py",
   "mimetype": "text/x-python",
   "name": "python",
   "nbconvert_exporter": "python",
   "pygments_lexer": "ipython3",
   "version": "3.13.1"
  }
 },
 "nbformat": 4,
 "nbformat_minor": 2
}
