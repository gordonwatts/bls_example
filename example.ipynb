{
 "cells": [
  {
   "cell_type": "markdown",
   "metadata": {},
   "source": [
    "# Accessing BLS data\n",
    "\n",
    "There is at least one type that required some special attention in a BLS file as it was not listed in the `xAOD` EDM. To fix this, there is now a [special file](https://github.com/gordonwatts/func-adl-types-atlas/blob/main/scripts/required_classes.txt) that contains a list of `extra` types.\n",
    "\n",
    "This demo shows how to use those classes."
   ]
  },
  {
   "cell_type": "markdown",
   "metadata": {},
   "source": [
    "## Local ServiceX Against a file\n",
    "\n",
    "This file was taken from the dataset `user.ponyisi:user.ponyisi.mc23_13p6TeV.524546.MGPy8EG_23lo_S4b18p4NJ0_Upsi1S2mu_4mu_3pt2_v2.deriv.DAOD_BPHY4.e8548_a911_r14908_p5923`. Any BLS file should work."
   ]
  },
  {
   "cell_type": "code",
   "execution_count": 1,
   "metadata": {},
   "outputs": [],
   "source": [
    "from pathlib import Path\n",
    "from servicex import dataset\n",
    "\n",
    "\n",
    "file = Path(\"DAOD_BPHY4.35498368._000001.pool.root.1\").absolute()\n",
    "\n",
    "assert file.exists()\n",
    "\n",
    "ds = dataset.FileList([str(file)])"
   ]
  },
  {
   "cell_type": "markdown",
   "metadata": {},
   "source": [
    "Next, lets create the local sx instance (for testing)."
   ]
  },
  {
   "cell_type": "code",
   "execution_count": 2,
   "metadata": {},
   "outputs": [],
   "source": [
    "from servicex_local import (\n",
    "    LocalXAODCodegen,\n",
    "    SXLocalAdaptor,\n",
    "    WSL2ScienceImage,\n",
    "    DockerScienceImage\n",
    ")\n",
    "from servicex.configuration import Configuration, Endpoint\n",
    "from servicex_local.adaptor import MinioLocalAdaptor\n",
    "\n",
    "codegen_name = \"atlasr22-local\"\n",
    "backend_name = \"local-backend\"\n",
    "\n",
    "codegen = LocalXAODCodegen()\n",
    "# science_runner = WSL2ScienceImage(\"atlas_al9\", \"25.2.12\")\n",
    "science_runner = DockerScienceImage(\n",
    "    \"sslhep/servicex_func_adl_xaod_transformer:22.2.107\"\n",
    ")\n",
    "adaptor = SXLocalAdaptor(codegen, science_runner, codegen_name, \"http://localhost:5001\")\n",
    "\n",
    "Configuration.register_endpoint(\n",
    "    Endpoint(\n",
    "        name=backend_name,\n",
    "        adapter=adaptor,\n",
    "        minio=MinioLocalAdaptor.for_transform,  # type: ignore\n",
    "        endpoint=\"bogus\",\n",
    "    )\n",
    ")"
   ]
  },
  {
   "cell_type": "markdown",
   "metadata": {},
   "source": [
    "## The BLS query that fetches just the orphaned type data\n",
    "\n",
    "We have to declare the type first."
   ]
  },
  {
   "cell_type": "code",
   "execution_count": 3,
   "metadata": {},
   "outputs": [],
   "source": [
    "from typing import Iterable\n",
    "from func_adl_servicex_xaodr22 import FuncADLQueryPHYSLITE\n",
    "from func_adl_servicex_xaodr22.type_support import cpp_type\n",
    "from func_adl_servicex_xaodr22.vector_elementlink_datavector_xaod_muon_v1___ import (\n",
    "    vector_ElementLink_DataVector_xAOD_Muon_v1___,\n",
    ")\n",
    "from func_adl_servicex_xaodr22.elementlink_datavector_xaod_muon_v1__ import (\n",
    "    ElementLink_DataVector_xAOD_Muon_v1__,\n",
    ")\n",
    "\n",
    "# Define the type for std::vector<ElementLink<xAOD::MuonContainer>>\n",
    "# cpp_vfloat = cpp_type[Iterable[float]](\"float\", float, \"std::vector<float>\")\n",
    "cpp_muon_links = cpp_type[vector_ElementLink_DataVector_xAOD_Muon_v1___](\n",
    "    \"ElementLink<DataVector<xAOD::Muon_v1>>\",\n",
    "    ElementLink_DataVector_xAOD_Muon_v1__,\n",
    "    \"vector<ElementLink<DataVector<xAOD::Muon_v1>>>\",\n",
    ")\n",
    "\n",
    "\n",
    "query = (\n",
    "    FuncADLQueryPHYSLITE()\n",
    "    .Select(lambda e: e.Vertices(\"BPHY4Quads\"))\n",
    "    .Select(\n",
    "        lambda vtxs: {\n",
    "            \"x\": vtxs.Select(lambda v: v.x()),\n",
    "            \"QUAD_Muon0\": vtxs.Select(\n",
    "                lambda v: v.auxdataConst[cpp_muon_links](\"MuonLinks\")[0].pt()\n",
    "            ),\n",
    "        }\n",
    "    )\n",
    ")"
   ]
  },
  {
   "cell_type": "markdown",
   "metadata": {},
   "source": [
    "Next fetch the data"
   ]
  },
  {
   "cell_type": "code",
   "execution_count": 4,
   "metadata": {},
   "outputs": [],
   "source": [
    "# import logging\n",
    "\n",
    "# logging.basicConfig(level=logging.DEBUG)"
   ]
  },
  {
   "cell_type": "code",
   "execution_count": 5,
   "metadata": {},
   "outputs": [
    {
     "data": {
      "application/vnd.jupyter.widget-view+json": {
       "model_id": "eb47137bc80d4a4abdefa529ebbb6f06",
       "version_major": 2,
       "version_minor": 0
      },
      "text/plain": [
       "Output()"
      ]
     },
     "metadata": {},
     "output_type": "display_data"
    },
    {
     "data": {
      "text/html": [
       "<pre style=\"white-space:pre;overflow-x:auto;line-height:normal;font-family:Menlo,'DejaVu Sans Mono',consolas,'Courier New',monospace\">Warning: assuming that the method 'ElementLink&lt;DataVector&lt;xAOD::Muon_v1&gt;&gt;::pt(...)' has return type 'double'. Use \n",
       "cpp_types.add_method_type_info to suppress (or correct) this warning.\n",
       "</pre>\n"
      ],
      "text/plain": [
       "Warning: assuming that the method 'ElementLink<DataVector<xAOD::Muon_v1>>::pt(...)' has return type 'double'. Use \n",
       "cpp_types.add_method_type_info to suppress (or correct) this warning.\n"
      ]
     },
     "metadata": {},
     "output_type": "display_data"
    },
    {
     "data": {
      "text/html": [
       "<pre style=\"white-space:pre;overflow-x:auto;line-height:normal;font-family:Menlo,'DejaVu Sans Mono',consolas,'Courier New',monospace\">x509up certificate not found at /tmp/x509up\n",
       "</pre>\n"
      ],
      "text/plain": [
       "x509up certificate not found at /tmp/x509up\n"
      ]
     },
     "metadata": {},
     "output_type": "display_data"
    },
    {
     "data": {
      "text/html": [
       "<pre style=\"white-space:pre;overflow-x:auto;line-height:normal;font-family:Menlo,'DejaVu Sans Mono',consolas,'Courier New',monospace\">Error during transformation. Transform files can be found at: \n",
       "C:\\Users\\gordo\\AppData\\Local\\Temp\\servicex_request_03e0c9c2-2cfc-47e6-878b-003902c55083\n",
       "</pre>\n"
      ],
      "text/plain": [
       "Error during transformation. Transform files can be found at: \n",
       "C:\\Users\\gordo\\AppData\\Local\\Temp\\servicex_request_03e0c9c2-2cfc-47e6-878b-003902c55083\n"
      ]
     },
     "metadata": {},
     "output_type": "display_data"
    },
    {
     "data": {
      "text/html": [
       "<pre style=\"white-space:pre;overflow-x:auto;line-height:normal;font-family:Menlo,'DejaVu Sans Mono',consolas,'Courier New',monospace\"></pre>\n"
      ],
      "text/plain": []
     },
     "metadata": {},
     "output_type": "display_data"
    }
   ],
   "source": [
    "from servicex import deliver\n",
    "\n",
    "request = {\n",
    "    \"Sample\": [\n",
    "        {\n",
    "            \"Name\": \"TestBLSQuadMu0\",\n",
    "            \"Dataset\": ds,\n",
    "            \"Query\": query,\n",
    "            \"Codegen\": \"atlasr22-local\",\n",
    "            \"IgnoreLocalCache\": True,\n",
    "        }\n",
    "    ]\n",
    "}\n",
    "\n",
    "result = deliver(request, servicex_name=backend_name)"
   ]
  },
  {
   "cell_type": "code",
   "execution_count": null,
   "metadata": {},
   "outputs": [],
   "source": [
    "import uproot\n",
    "f = uproot.open(result['TestBLSQuadMu0'][0])\n",
    "tree = f['atlas_xaod_tree']\n",
    "tree.keys()"
   ]
  },
  {
   "cell_type": "code",
   "execution_count": null,
   "metadata": {},
   "outputs": [],
   "source": [
    "tree['x'].array()"
   ]
  },
  {
   "cell_type": "markdown",
   "metadata": {},
   "source": [
    "Old code we are working from\n",
    "\n",
    "```python\n",
    "\n",
    "from servicex import deliver, query as q, dataset as d\n",
    "import uproot\n",
    "import hist\n",
    "import mplhep\n",
    "import awkward as ak\n",
    "import vector\n",
    "from func_adl_servicex_xaodr22 import (\n",
    "    FuncADLQueryPHYSLITE,\n",
    "    cpp_float,\n",
    "    cpp_string,\n",
    "    tdt_chain_fired,\n",
    "    calib_tools,\n",
    "    cpp_vfloat,\n",
    ")\n",
    "\n",
    "DS = \"user.ponyisi:user.ponyisi.mc23_13p6TeV.524546.MGPy8EG_23lo_S4b18p4NJ0_Upsi1S2mu_4mu_3pt2_v2.deriv.DAOD_BPHY4.e8548_a911_r14908_p5923\"\n",
    "\n",
    "vector.register_awkward()\n",
    "\n",
    "query = FuncADLQueryPHYSLITE()\n",
    "\n",
    "# query = calib_tools.query_update(query, muon_working_point='Medium')\n",
    "query = query.Select(\n",
    "    lambda e: {\n",
    "        \"evt\": e.EventInfo(\"EventInfo\"),\n",
    "        \"quads\": e.Vertices(\"BPHY4Quads\"),\n",
    "        \"muons\": e.Muons(\"Muons\"),\n",
    "    }\n",
    ")\n",
    "query = query.Select(\n",
    "    lambda e: {\n",
    "        \"eventNumber\": e.evt.eventNumber(),\n",
    "        \"QUAD_mass\": e.quads.Select(lambda q: q.auxdataConst[cpp_float](\"QUAD_mass\")),\n",
    "        \"QUAD_ChargeCode\": e.quads.Select(\n",
    "            lambda q: q.auxdataConst[cpp_string](\"ChargeCode\")\n",
    "        ),\n",
    "        \"QUAD_CombinationCode\": e.quads.Select(\n",
    "            lambda q: q.auxdataConst[cpp_string](\"CombinationCode\")\n",
    "        ),\n",
    "        \"QUAD_RefTrackPx\": e.quads.Select(\n",
    "            lambda q: q.auxdataConst[cpp_vfloat](\"RefTrackPx\")\n",
    "        ),\n",
    "        \"QUAD_RefTrackPy\": e.quads.Select(\n",
    "            lambda q: q.auxdataConst[cpp_vfloat](\"RefTrackPy\")\n",
    "        ),\n",
    "        \"QUAD_RefTrackPz\": e.quads.Select(\n",
    "            lambda q: q.auxdataConst[cpp_vfloat](\"RefTrackPz\")\n",
    "        ),\n",
    "        \"QUAD_chi2\": e.quads.Select(lambda q: q.chiSquared()),\n",
    "        \"QUAD_dof\": e.quads.Select(lambda q: q.numberDoF()),\n",
    "        \"mu_pt\": e.muons.Select(lambda q: q.pt()),\n",
    "        \"mu_eta\": e.muons.Select(lambda q: q.eta()),\n",
    "        \"mu_phi\": e.muons.Select(lambda q: q.phi()),\n",
    "        # \"QUAD_Muon0\": e.quads.Select(lambda q: q.auxdataConst[\"std::vector<ElementLink<xAOD::MuonContainer>>\"](\"MuonLinks\")[0].pt()),\n",
    "        \"HLT_mu4_ivarloose_mu4_mu3noL1\": tdt_chain_fired(\n",
    "            \"HLT_mu4_ivarloose_mu4_mu3noL1_L1BPH-7M14-0DR25-MU5VFMU3VF\"\n",
    "        ),\n",
    "        \"HLT_2mu4_ivarloose\": tdt_chain_fired(\n",
    "            \"HLT_2mu4_ivarloose_L1BPH-7M14-0DR25-MU5VFMU3VF\"\n",
    "        ),\n",
    "        \"HLT_2mu4\": tdt_chain_fired(\"HLT_2mu4_L1BPH-7M11-25DR99-2MU3VF\"),\n",
    "        \"HLT_3mu4_bUpsi\": tdt_chain_fired(\"HLT_3mu4_bUpsi_L13MU3VF\"),\n",
    "        \"HLT_2mu6_bUpsimumu\": tdt_chain_fired(\n",
    "            \"HLT_2mu6_bUpsimumu_L1BPH-8M15-0DR22-2MU5VF\"\n",
    "        ),\n",
    "        \"HLT_mu11_mu6_bDimu\": tdt_chain_fired(\"HLT_mu11_mu6_bDimu_L1MU8VF_2MU5VF\"),\n",
    "    }\n",
    ")\n",
    "\n",
    "dssplit = DS.split(\".\")\n",
    "dsname = f\"bphy4.{dssplit[4]}.{dssplit[8]}\"\n",
    "\n",
    "request = {\n",
    "    \"Sample\": [\n",
    "        {\n",
    "            \"Name\": dsname,\n",
    "            \"Dataset\": d.Rucio(DS),\n",
    "            \"Query\": query,\n",
    "            \"Codegen\": \"atlasr22\",\n",
    "            # 'IgnoreLocalCache': True,\n",
    "        }\n",
    "    ]\n",
    "}\n",
    "```"
   ]
  }
 ],
 "metadata": {
  "kernelspec": {
   "display_name": ".venv",
   "language": "python",
   "name": "python3"
  },
  "language_info": {
   "codemirror_mode": {
    "name": "ipython",
    "version": 3
   },
   "file_extension": ".py",
   "mimetype": "text/x-python",
   "name": "python",
   "nbconvert_exporter": "python",
   "pygments_lexer": "ipython3",
   "version": "3.13.1"
  }
 },
 "nbformat": 4,
 "nbformat_minor": 2
}
