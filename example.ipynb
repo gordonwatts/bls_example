{
 "cells": [
  {
   "cell_type": "markdown",
   "metadata": {},
   "source": [
    "# Accessing BLS data\n",
    "\n",
    "There is at least one type that required some special attention in a BLS file as it was not listed in the `xAOD` EDM. To fix this, there is now a [special file](https://github.com/gordonwatts/func-adl-types-atlas/blob/main/scripts/required_classes.txt) that contains a list of `extra` types.\n",
    "\n",
    "This demo shows how to use those classes."
   ]
  },
  {
   "cell_type": "markdown",
   "metadata": {},
   "source": [
    "## Local ServiceX Against a file\n",
    "\n",
    "This file was taken from the dataset `user.ponyisi:user.ponyisi.mc23_13p6TeV.524546.MGPy8EG_23lo_S4b18p4NJ0_Upsi1S2mu_4mu_3pt2_v2.deriv.DAOD_BPHY4.e8548_a911_r14908_p5923`. Any BLS file should work."
   ]
  },
  {
   "cell_type": "code",
   "execution_count": 1,
   "metadata": {},
   "outputs": [],
   "source": [
    "from pathlib import Path\n",
    "from servicex import dataset\n",
    "\n",
    "\n",
    "file = Path(\"DAOD_BPHY4.35498368._000001.pool.root.1\").absolute()\n",
    "\n",
    "assert file.exists()\n",
    "\n",
    "ds = dataset.FileList([str(file)])"
   ]
  },
  {
   "cell_type": "markdown",
   "metadata": {},
   "source": [
    "Next, lets create the local sx instance (for testing)."
   ]
  },
  {
   "cell_type": "code",
   "execution_count": 2,
   "metadata": {},
   "outputs": [],
   "source": [
    "from servicex_local import (\n",
    "    LocalXAODCodegen,\n",
    "    SXLocalAdaptor,\n",
    "    WSL2ScienceImage,\n",
    "    DockerScienceImage\n",
    ")\n",
    "from servicex.configuration import Configuration, Endpoint\n",
    "from servicex_local.adaptor import MinioLocalAdaptor\n",
    "\n",
    "codegen_name = \"atlasr22-local\"\n",
    "backend_name = \"local-backend\"\n",
    "\n",
    "codegen = LocalXAODCodegen()\n",
    "# science_runner = WSL2ScienceImage(\"atlas_al9\", \"25.2.12\")\n",
    "science_runner = DockerScienceImage(\n",
    "    \"sslhep/servicex_func_adl_xaod_transformer:22.2.107\"\n",
    ")\n",
    "adaptor = SXLocalAdaptor(codegen, science_runner, codegen_name, \"http://localhost:5001\")\n",
    "\n",
    "Configuration.register_endpoint(\n",
    "    Endpoint(\n",
    "        name=backend_name,\n",
    "        adapter=adaptor,\n",
    "        minio=MinioLocalAdaptor.for_transform,  # type: ignore\n",
    "        endpoint=\"bogus\",\n",
    "    )\n",
    ")"
   ]
  },
  {
   "cell_type": "markdown",
   "metadata": {},
   "source": [
    "## The BLS query that fetches just the orphaned type data\n",
    "\n",
    "We have to declare the type first."
   ]
  },
  {
   "cell_type": "code",
   "execution_count": 3,
   "metadata": {},
   "outputs": [
    {
     "name": "stderr",
     "output_type": "stream",
     "text": [
      "C:\\Users\\gordo\\Code\\iris-hep\\test1_package\\func_adl_servicex_xaodr22\\trigger.py:126: SyntaxWarning: invalid escape sequence '\\D'\n",
      "  '''Returns true if the `offline_object` is a close match to the trigger\n"
     ]
    }
   ],
   "source": [
    "from typing import Iterable\n",
    "from func_adl_servicex_xaodr22 import FuncADLQueryPHYSLITE\n",
    "from func_adl_servicex_xaodr22.type_support import cpp_type\n",
    "from func_adl_servicex_xaodr22.elementlink_datavector_xaod_muon_v1__ import (\n",
    "    ElementLink_DataVector_xAOD_Muon_v1__,\n",
    ")\n",
    "\n",
    "# Define the type for std::vector<ElementLink<xAOD::MuonContainer>>\n",
    "cpp_muon_links = cpp_type[Iterable[ElementLink_DataVector_xAOD_Muon_v1__]](\n",
    "    \"ElementLink<DataVector<xAOD::Muon_v1>>\",\n",
    "    Iterable[ElementLink_DataVector_xAOD_Muon_v1__],\n",
    "    \"std::vector<ElementLink<DataVector<xAOD::Muon_v1>>>\",\n",
    ")\n",
    "\n",
    "\n",
    "query = (\n",
    "    FuncADLQueryPHYSLITE()\n",
    "    .Select(lambda e: e.Vertices(\"BPHY4Quads\"))\n",
    "    .Select(\n",
    "        lambda vtxs: {\n",
    "            \"x\": vtxs.Select(lambda v: v.x()),\n",
    "            \"QUAD_Muon0\": vtxs.Select(\n",
    "                lambda v: v.auxdataConst[cpp_muon_links](\"MuonLinks\")[0].pt()\n",
    "            ),\n",
    "        }\n",
    "    )\n",
    ")"
   ]
  },
  {
   "cell_type": "markdown",
   "metadata": {},
   "source": [
    "Next fetch the data"
   ]
  },
  {
   "cell_type": "code",
   "execution_count": 4,
   "metadata": {},
   "outputs": [],
   "source": [
    "# import logging\n",
    "\n",
    "# logging.basicConfig(level=logging.DEBUG)"
   ]
  },
  {
   "cell_type": "code",
   "execution_count": 5,
   "metadata": {},
   "outputs": [
    {
     "data": {
      "application/vnd.jupyter.widget-view+json": {
       "model_id": "d2c519d72ee1447e8efc7e3f3b7dcab9",
       "version_major": 2,
       "version_minor": 0
      },
      "text/plain": [
       "Output()"
      ]
     },
     "metadata": {},
     "output_type": "display_data"
    },
    {
     "data": {
      "text/html": [
       "<pre style=\"white-space:pre;overflow-x:auto;line-height:normal;font-family:Menlo,'DejaVu Sans Mono',consolas,'Courier New',monospace\">x509up certificate not found at /tmp/x509up\n",
       "</pre>\n"
      ],
      "text/plain": [
       "x509up certificate not found at /tmp/x509up\n"
      ]
     },
     "metadata": {},
     "output_type": "display_data"
    },
    {
     "data": {
      "text/html": [
       "<pre style=\"white-space:pre;overflow-x:auto;line-height:normal;font-family:Menlo,'DejaVu Sans Mono',consolas,'Courier New',monospace\"><span style=\"color: #7fbfbf; text-decoration-color: #7fbfbf\">[02/06/25 15:15:38] </span><span style=\"color: #000080; text-decoration-color: #000080\">INFO    </span> ServiceX Transform <span style=\"color: #800080; text-decoration-color: #800080; font-style: italic\">None</span>: <span style=\"color: #ffff00; text-decoration-color: #ffff00\">a7cb91e9-ca34-4875-9152-44f914f0fd02</span>        <a href=\"file://c:\\Users\\gordo\\Code\\iris-hep\\bls_example\\.venv\\Lib\\site-packages\\servicex\\query_core.py\" target=\"_blank\"><span style=\"color: #7f7f7f; text-decoration-color: #7f7f7f\">query_core.py</span></a><span style=\"color: #7f7f7f; text-decoration-color: #7f7f7f\">:</span><a href=\"file://c:\\Users\\gordo\\Code\\iris-hep\\bls_example\\.venv\\Lib\\site-packages\\servicex\\query_core.py#480\" target=\"_blank\"><span style=\"color: #7f7f7f; text-decoration-color: #7f7f7f\">480</span></a>\n",
       "</pre>\n"
      ],
      "text/plain": [
       "\u001b[2;36m[02/06/25 15:15:38]\u001b[0m\u001b[2;36m \u001b[0m\u001b[34mINFO    \u001b[0m ServiceX Transform \u001b[3;35mNone\u001b[0m: \u001b[93ma7cb91e9-ca34-4875-9152-44f914f0fd02\u001b[0m        \u001b]8;id=232661;file://c:\\Users\\gordo\\Code\\iris-hep\\bls_example\\.venv\\Lib\\site-packages\\servicex\\query_core.py\u001b\\\u001b[2mquery_core.py\u001b[0m\u001b]8;;\u001b\\\u001b[2m:\u001b[0m\u001b]8;id=106180;file://c:\\Users\\gordo\\Code\\iris-hep\\bls_example\\.venv\\Lib\\site-packages\\servicex\\query_core.py#480\u001b\\\u001b[2m480\u001b[0m\u001b]8;;\u001b\\\n"
      ]
     },
     "metadata": {},
     "output_type": "display_data"
    },
    {
     "data": {
      "text/html": [
       "<pre style=\"white-space:pre;overflow-x:auto;line-height:normal;font-family:Menlo,'DejaVu Sans Mono',consolas,'Courier New',monospace\"><span style=\"color: #7fbfbf; text-decoration-color: #7fbfbf\">                    </span><span style=\"color: #000080; text-decoration-color: #000080\">INFO    </span> Transforms completed successfully                                    <a href=\"file://c:\\Users\\gordo\\Code\\iris-hep\\bls_example\\.venv\\Lib\\site-packages\\servicex\\query_core.py\" target=\"_blank\"><span style=\"color: #7f7f7f; text-decoration-color: #7f7f7f\">query_core.py</span></a><span style=\"color: #7f7f7f; text-decoration-color: #7f7f7f\">:</span><a href=\"file://c:\\Users\\gordo\\Code\\iris-hep\\bls_example\\.venv\\Lib\\site-packages\\servicex\\query_core.py#245\" target=\"_blank\"><span style=\"color: #7f7f7f; text-decoration-color: #7f7f7f\">245</span></a>\n",
       "</pre>\n"
      ],
      "text/plain": [
       "\u001b[2;36m                   \u001b[0m\u001b[2;36m \u001b[0m\u001b[34mINFO    \u001b[0m Transforms completed successfully                                    \u001b]8;id=493499;file://c:\\Users\\gordo\\Code\\iris-hep\\bls_example\\.venv\\Lib\\site-packages\\servicex\\query_core.py\u001b\\\u001b[2mquery_core.py\u001b[0m\u001b]8;;\u001b\\\u001b[2m:\u001b[0m\u001b]8;id=502513;file://c:\\Users\\gordo\\Code\\iris-hep\\bls_example\\.venv\\Lib\\site-packages\\servicex\\query_core.py#245\u001b\\\u001b[2m245\u001b[0m\u001b]8;;\u001b\\\n"
      ]
     },
     "metadata": {},
     "output_type": "display_data"
    },
    {
     "data": {
      "text/html": [
       "<pre style=\"white-space:pre;overflow-x:auto;line-height:normal;font-family:Menlo,'DejaVu Sans Mono',consolas,'Courier New',monospace\"></pre>\n"
      ],
      "text/plain": []
     },
     "metadata": {},
     "output_type": "display_data"
    }
   ],
   "source": [
    "from servicex import deliver\n",
    "\n",
    "request = {\n",
    "    \"Sample\": [\n",
    "        {\n",
    "            \"Name\": \"TestBLSQuadMu0\",\n",
    "            \"Dataset\": ds,\n",
    "            \"Query\": query,\n",
    "            \"Codegen\": \"atlasr22-local\",\n",
    "            \"IgnoreLocalCache\": True,\n",
    "        }\n",
    "    ]\n",
    "}\n",
    "\n",
    "result = deliver(request, servicex_name=backend_name)"
   ]
  },
  {
   "cell_type": "code",
   "execution_count": 6,
   "metadata": {},
   "outputs": [
    {
     "data": {
      "text/plain": [
       "['x', 'QUAD_Muon0']"
      ]
     },
     "execution_count": 6,
     "metadata": {},
     "output_type": "execute_result"
    }
   ],
   "source": [
    "import uproot\n",
    "f = uproot.open(result['TestBLSQuadMu0'][0])\n",
    "tree = f['atlas_xaod_tree']\n",
    "tree.keys()"
   ]
  },
  {
   "cell_type": "code",
   "execution_count": 7,
   "metadata": {},
   "outputs": [
    {
     "data": {
      "text/html": [
       "<pre>[[],\n",
       " [],\n",
       " [],\n",
       " [],\n",
       " [-0.485],\n",
       " [-0.467],\n",
       " [],\n",
       " [-1.02, -0.501, -0.393, -1.01, -0.83, ..., -1.25, -1.08, -0.313, -1.08, -1.14],\n",
       " [],\n",
       " [-0.509, -0.508, -0.512, -0.527, -0.512],\n",
       " ...,\n",
       " [-0.501, -0.624, -0.644, -0.771, -0.924],\n",
       " [0.176, -0.692, -0.423, -0.687, -1.19],\n",
       " [-1.88, -1.2, -1.31, -1.76, -3.29, ..., -1.36, -3.32, -4.42, -5.93, -3.88],\n",
       " [-2.19],\n",
       " [-0.66, -0.77, -0.521, -1.19, -0.176],\n",
       " [-0.177, -0.496, -1.49, 0.719, 0.399],\n",
       " [3.27],\n",
       " [-3.67, -0.516, 2.38, -3.23, 0.392, ..., -2.92, -0.135, 1.94, 0.859, -0.672],\n",
       " []]\n",
       "--------------------------------------------------------------------------------\n",
       "backend: cpu\n",
       "nbytes: 1.3 MB\n",
       "type: 30000 * var * float32</pre>"
      ],
      "text/plain": [
       "<Array [[], [], [], ..., [-3.67, ..., -0.672], []] type='30000 * var * float32'>"
      ]
     },
     "execution_count": 7,
     "metadata": {},
     "output_type": "execute_result"
    }
   ],
   "source": [
    "tree['x'].array()"
   ]
  },
  {
   "cell_type": "code",
   "execution_count": 8,
   "metadata": {},
   "outputs": [
    {
     "data": {
      "text/html": [
       "<pre>[[],\n",
       " [],\n",
       " [],\n",
       " [],\n",
       " [2.1e+04],\n",
       " [8.74e+03],\n",
       " [],\n",
       " [5.36e+03, 5.36e+03, 5.36e+03, 5.36e+03, ..., 4.27e+03, 4.27e+03, 4.1e+03],\n",
       " [],\n",
       " [1.14e+04, 1.14e+04, 1.14e+04, 1.14e+04, 6.12e+03],\n",
       " ...,\n",
       " [6.76e+03, 6.76e+03, 6.76e+03, 6.76e+03, 5.39e+03],\n",
       " [4.99e+03, 4.99e+03, 4.99e+03, 4.99e+03, 4.01e+03],\n",
       " [5.69e+03, 5.69e+03, 5.69e+03, 5.69e+03, ..., 4.26e+03, 4.26e+03, 4.2e+03],\n",
       " [9.41e+03],\n",
       " [7.82e+03, 7.82e+03, 7.82e+03, 7.82e+03, 7.21e+03],\n",
       " [5.45e+03, 5.45e+03, 5.45e+03, 5.45e+03, 5.16e+03],\n",
       " [1.04e+04],\n",
       " [7.07e+03, 7.07e+03, 7.07e+03, 7.07e+03, ..., 5.42e+03, 5.42e+03, 3.91e+03],\n",
       " []]\n",
       "-----------------------------------------------------------------------------\n",
       "backend: cpu\n",
       "nbytes: 2.3 MB\n",
       "type: 30000 * var * float64</pre>"
      ],
      "text/plain": [
       "<Array [[], [], [], ..., [7.07e+03, ...], []] type='30000 * var * float64'>"
      ]
     },
     "execution_count": 8,
     "metadata": {},
     "output_type": "execute_result"
    }
   ],
   "source": [
    "tree['QUAD_Muon0'].array()"
   ]
  },
  {
   "cell_type": "markdown",
   "metadata": {},
   "source": [
    "Old code we are working from\n",
    "\n",
    "```python\n",
    "\n",
    "from servicex import deliver, query as q, dataset as d\n",
    "import uproot\n",
    "import hist\n",
    "import mplhep\n",
    "import awkward as ak\n",
    "import vector\n",
    "from func_adl_servicex_xaodr22 import (\n",
    "    FuncADLQueryPHYSLITE,\n",
    "    cpp_float,\n",
    "    cpp_string,\n",
    "    tdt_chain_fired,\n",
    "    calib_tools,\n",
    "    cpp_vfloat,\n",
    ")\n",
    "\n",
    "DS = \"user.ponyisi:user.ponyisi.mc23_13p6TeV.524546.MGPy8EG_23lo_S4b18p4NJ0_Upsi1S2mu_4mu_3pt2_v2.deriv.DAOD_BPHY4.e8548_a911_r14908_p5923\"\n",
    "\n",
    "vector.register_awkward()\n",
    "\n",
    "query = FuncADLQueryPHYSLITE()\n",
    "\n",
    "# query = calib_tools.query_update(query, muon_working_point='Medium')\n",
    "query = query.Select(\n",
    "    lambda e: {\n",
    "        \"evt\": e.EventInfo(\"EventInfo\"),\n",
    "        \"quads\": e.Vertices(\"BPHY4Quads\"),\n",
    "        \"muons\": e.Muons(\"Muons\"),\n",
    "    }\n",
    ")\n",
    "query = query.Select(\n",
    "    lambda e: {\n",
    "        \"eventNumber\": e.evt.eventNumber(),\n",
    "        \"QUAD_mass\": e.quads.Select(lambda q: q.auxdataConst[cpp_float](\"QUAD_mass\")),\n",
    "        \"QUAD_ChargeCode\": e.quads.Select(\n",
    "            lambda q: q.auxdataConst[cpp_string](\"ChargeCode\")\n",
    "        ),\n",
    "        \"QUAD_CombinationCode\": e.quads.Select(\n",
    "            lambda q: q.auxdataConst[cpp_string](\"CombinationCode\")\n",
    "        ),\n",
    "        \"QUAD_RefTrackPx\": e.quads.Select(\n",
    "            lambda q: q.auxdataConst[cpp_vfloat](\"RefTrackPx\")\n",
    "        ),\n",
    "        \"QUAD_RefTrackPy\": e.quads.Select(\n",
    "            lambda q: q.auxdataConst[cpp_vfloat](\"RefTrackPy\")\n",
    "        ),\n",
    "        \"QUAD_RefTrackPz\": e.quads.Select(\n",
    "            lambda q: q.auxdataConst[cpp_vfloat](\"RefTrackPz\")\n",
    "        ),\n",
    "        \"QUAD_chi2\": e.quads.Select(lambda q: q.chiSquared()),\n",
    "        \"QUAD_dof\": e.quads.Select(lambda q: q.numberDoF()),\n",
    "        \"mu_pt\": e.muons.Select(lambda q: q.pt()),\n",
    "        \"mu_eta\": e.muons.Select(lambda q: q.eta()),\n",
    "        \"mu_phi\": e.muons.Select(lambda q: q.phi()),\n",
    "        # \"QUAD_Muon0\": e.quads.Select(lambda q: q.auxdataConst[\"std::vector<ElementLink<xAOD::MuonContainer>>\"](\"MuonLinks\")[0].pt()),\n",
    "        \"HLT_mu4_ivarloose_mu4_mu3noL1\": tdt_chain_fired(\n",
    "            \"HLT_mu4_ivarloose_mu4_mu3noL1_L1BPH-7M14-0DR25-MU5VFMU3VF\"\n",
    "        ),\n",
    "        \"HLT_2mu4_ivarloose\": tdt_chain_fired(\n",
    "            \"HLT_2mu4_ivarloose_L1BPH-7M14-0DR25-MU5VFMU3VF\"\n",
    "        ),\n",
    "        \"HLT_2mu4\": tdt_chain_fired(\"HLT_2mu4_L1BPH-7M11-25DR99-2MU3VF\"),\n",
    "        \"HLT_3mu4_bUpsi\": tdt_chain_fired(\"HLT_3mu4_bUpsi_L13MU3VF\"),\n",
    "        \"HLT_2mu6_bUpsimumu\": tdt_chain_fired(\n",
    "            \"HLT_2mu6_bUpsimumu_L1BPH-8M15-0DR22-2MU5VF\"\n",
    "        ),\n",
    "        \"HLT_mu11_mu6_bDimu\": tdt_chain_fired(\"HLT_mu11_mu6_bDimu_L1MU8VF_2MU5VF\"),\n",
    "    }\n",
    ")\n",
    "\n",
    "dssplit = DS.split(\".\")\n",
    "dsname = f\"bphy4.{dssplit[4]}.{dssplit[8]}\"\n",
    "\n",
    "request = {\n",
    "    \"Sample\": [\n",
    "        {\n",
    "            \"Name\": dsname,\n",
    "            \"Dataset\": d.Rucio(DS),\n",
    "            \"Query\": query,\n",
    "            \"Codegen\": \"atlasr22\",\n",
    "            # 'IgnoreLocalCache': True,\n",
    "        }\n",
    "    ]\n",
    "}\n",
    "```"
   ]
  }
 ],
 "metadata": {
  "kernelspec": {
   "display_name": ".venv",
   "language": "python",
   "name": "python3"
  },
  "language_info": {
   "codemirror_mode": {
    "name": "ipython",
    "version": 3
   },
   "file_extension": ".py",
   "mimetype": "text/x-python",
   "name": "python",
   "nbconvert_exporter": "python",
   "pygments_lexer": "ipython3",
   "version": "3.13.1"
  }
 },
 "nbformat": 4,
 "nbformat_minor": 2
}
