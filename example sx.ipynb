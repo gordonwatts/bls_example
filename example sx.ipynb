{
 "cells": [
  {
   "cell_type": "markdown",
   "metadata": {},
   "source": [
    "# Accessing BLS data\n",
    "\n",
    "There is at least one type that required some special attention in a BLS file as it was not listed in the `xAOD` EDM. To fix this, there is now a [special file](https://github.com/gordonwatts/func-adl-types-atlas/blob/main/scripts/required_classes.txt) that contains a list of `extra` types.\n",
    "\n",
    "This demo shows how to use those classes."
   ]
  },
  {
   "cell_type": "markdown",
   "metadata": {},
   "source": [
    "## ServiceX against a dataset\n",
    "\n",
    "We will use Peter's dataset `user.ponyisi:user.ponyisi.mc23_13p6TeV.524546.MGPy8EG_23lo_S4b18p4NJ0_Upsi1S2mu_4mu_3pt2_v2.deriv.DAOD_BPHY4.e8548_a911_r14908_p5923`."
   ]
  },
  {
   "cell_type": "code",
   "execution_count": 1,
   "metadata": {},
   "outputs": [],
   "source": [
    "dataset_name = \"user.ponyisi:user.ponyisi.mc23_13p6TeV.524546.MGPy8EG_23lo_S4b18p4NJ0_Upsi1S2mu_4mu_3pt2_v2.deriv.DAOD_BPHY4.e8548_a911_r14908_p5923\"\n",
    "backend_name = \"atlasr22\""
   ]
  },
  {
   "cell_type": "code",
   "execution_count": 2,
   "metadata": {},
   "outputs": [],
   "source": [
    "from servicex import dataset\n",
    "\n",
    "ds = dataset.Rucio(dataset_name)"
   ]
  },
  {
   "cell_type": "markdown",
   "metadata": {},
   "source": [
    "## The BLS query that fetches just the orphaned type data\n",
    "\n",
    "We have to declare the type first."
   ]
  },
  {
   "cell_type": "code",
   "execution_count": 3,
   "metadata": {},
   "outputs": [],
   "source": [
    "from typing import Iterable\n",
    "from func_adl_servicex_xaodr22 import FuncADLQueryPHYSLITE\n",
    "from func_adl_servicex_xaodr22.type_support import cpp_type\n",
    "from func_adl_servicex_xaodr22.elementlink_datavector_xaod_muon_v1__ import (\n",
    "    ElementLink_DataVector_xAOD_Muon_v1__,\n",
    ")\n",
    "\n",
    "# Define the type for std::vector<ElementLink<xAOD::MuonContainer>>\n",
    "cpp_muon_links = cpp_type[Iterable[ElementLink_DataVector_xAOD_Muon_v1__]](\n",
    "    \"ElementLink<DataVector<xAOD::Muon_v1>>\",\n",
    "    Iterable[ElementLink_DataVector_xAOD_Muon_v1__],\n",
    "    \"std::vector<ElementLink<DataVector<xAOD::Muon_v1>>>\",\n",
    ")\n",
    "\n",
    "\n",
    "query = (\n",
    "    FuncADLQueryPHYSLITE()\n",
    "    .Select(lambda e: e.Vertices(\"BPHY4Quads\"))\n",
    "    .Select(\n",
    "        lambda vtxs: {\n",
    "            \"x\": vtxs.Select(lambda v: v.x()),\n",
    "            \"QUAD_Muon0\": vtxs.Select(\n",
    "                lambda v: v.auxdataConst[cpp_muon_links](\"MuonLinks\")[0].pt()\n",
    "            ),\n",
    "        }\n",
    "    )\n",
    ")"
   ]
  },
  {
   "cell_type": "markdown",
   "metadata": {},
   "source": [
    "Next fetch the data"
   ]
  },
  {
   "cell_type": "code",
   "execution_count": 4,
   "metadata": {},
   "outputs": [],
   "source": [
    "# import logging\n",
    "\n",
    "# logging.basicConfig(level=logging.DEBUG)"
   ]
  },
  {
   "cell_type": "code",
   "execution_count": 7,
   "metadata": {},
   "outputs": [
    {
     "data": {
      "application/vnd.jupyter.widget-view+json": {
       "model_id": "05821c0307e344ad920338ba2281d51e",
       "version_major": 2,
       "version_minor": 0
      },
      "text/plain": [
       "Output()"
      ]
     },
     "metadata": {},
     "output_type": "display_data"
    },
    {
     "data": {
      "text/html": [
       "<pre style=\"white-space:pre;overflow-x:auto;line-height:normal;font-family:Menlo,'DejaVu Sans Mono',consolas,'Courier New',monospace\"></pre>\n"
      ],
      "text/plain": []
     },
     "metadata": {},
     "output_type": "display_data"
    }
   ],
   "source": [
    "from servicex import deliver\n",
    "\n",
    "request = {\n",
    "    \"Sample\": [\n",
    "        {\n",
    "            \"Name\": \"TestBLSQuadMu0\",\n",
    "            \"Dataset\": ds,\n",
    "            \"Query\": query,\n",
    "            \"Codegen\": \"atlasr22\",\n",
    "            \"IgnoreLocalCache\": True,\n",
    "        }\n",
    "    ]\n",
    "}\n",
    "\n",
    "result = deliver(request, servicex_name=backend_name)"
   ]
  },
  {
   "cell_type": "code",
   "execution_count": 8,
   "metadata": {},
   "outputs": [
    {
     "data": {
      "text/plain": [
       "['x', 'QUAD_Muon0']"
      ]
     },
     "execution_count": 8,
     "metadata": {},
     "output_type": "execute_result"
    }
   ],
   "source": [
    "import uproot\n",
    "f = uproot.open(result['TestBLSQuadMu0'][0])\n",
    "tree = f['atlas_xaod_tree']\n",
    "tree.keys()"
   ]
  },
  {
   "cell_type": "code",
   "execution_count": 9,
   "metadata": {},
   "outputs": [
    {
     "data": {
      "text/html": [
       "<pre>[[],\n",
       " [],\n",
       " [-0.53],\n",
       " [-0.511],\n",
       " [],\n",
       " [],\n",
       " [],\n",
       " [-0.571],\n",
       " [3.02],\n",
       " [],\n",
       " ...,\n",
       " [],\n",
       " [-0.123, -0.602, -0.536, -0.18, -0.169, ..., -0.262, -0.376, -0.0898, 0.232],\n",
       " [-0.482, 4.55, -0.739, 4.92, -0.758, ..., 3.95, -0.776, 4.47, 4.58, 12.1],\n",
       " [-0.374, -0.313, -0.0281, -0.435, -0.348, ..., -0.246, 0.765, 1.89, -0.655],\n",
       " [-0.468, -0.981, -3.81, -1.52, -0.6, ..., -1.3, -1.03, 2.88, -3.66, -3.01],\n",
       " [-1.23],\n",
       " [-0.512, -0.45, 1.38, 3.86, -0.632, ..., 1.31, 1.04, 0.841, 0.344, 0.923],\n",
       " [-0.703, -0.675, -0.517, -1.95, -0.238, ..., -1.09, -0.758, -2.58, -4.19],\n",
       " [0.128, -0.938, -1.47, 1.29, -0.065, ..., 0.177, -0.918, -2.11, -0.151, -2.88]]\n",
       "--------------------------------------------------------------------------------\n",
       "backend: cpu\n",
       "nbytes: 1.2 MB\n",
       "type: 30000 * var * float32</pre>"
      ],
      "text/plain": [
       "<Array [[], [], ..., [0.128, -0.938, ..., -2.88]] type='30000 * var * float32'>"
      ]
     },
     "execution_count": 9,
     "metadata": {},
     "output_type": "execute_result"
    }
   ],
   "source": [
    "tree['x'].array()"
   ]
  },
  {
   "cell_type": "code",
   "execution_count": 10,
   "metadata": {},
   "outputs": [
    {
     "data": {
      "text/html": [
       "<pre>[[],\n",
       " [],\n",
       " [4.55e+03],\n",
       " [5.82e+03],\n",
       " [],\n",
       " [],\n",
       " [],\n",
       " [1.3e+04],\n",
       " [4.28e+03],\n",
       " [],\n",
       " ...,\n",
       " [],\n",
       " [1.41e+04, 1.41e+04, 1.41e+04, 1.41e+04, ..., 6.26e+03, 6.26e+03, 5.21e+03],\n",
       " [3.18e+04, 3.18e+04, 3.18e+04, 3.18e+04, ..., 2.62e+04, 2.62e+04, 1.55e+04],\n",
       " [1.54e+04, 1.54e+04, 1.54e+04, 1.54e+04, ..., 4.22e+03, 4.22e+03, 3.9e+03],\n",
       " [5.59e+03, 5.59e+03, 5.59e+03, 5.59e+03, ..., 4.09e+03, 4.09e+03, 4.04e+03],\n",
       " [5.63e+03],\n",
       " [7.03e+04, 7.03e+04, 7.03e+04, 7.03e+04, ..., 3.23e+03, 3.23e+03, 2.89e+03],\n",
       " [8.03e+03, 8.03e+03, 8.03e+03, 8.03e+03, ..., 3.23e+03, 3.23e+03, 3.05e+03],\n",
       " [1.2e+04, 1.2e+04, 1.2e+04, 1.2e+04, ..., 9.49e+03, 9.49e+03, 3.43e+03]]\n",
       "-----------------------------------------------------------------------------\n",
       "backend: cpu\n",
       "nbytes: 2.2 MB\n",
       "type: 30000 * var * float64</pre>"
      ],
      "text/plain": [
       "<Array [[], [], ..., [1.2e+04, ..., 3.43e+03]] type='30000 * var * float64'>"
      ]
     },
     "execution_count": 10,
     "metadata": {},
     "output_type": "execute_result"
    }
   ],
   "source": [
    "tree['QUAD_Muon0'].array()"
   ]
  }
 ],
 "metadata": {
  "kernelspec": {
   "display_name": ".venv",
   "language": "python",
   "name": "python3"
  },
  "language_info": {
   "codemirror_mode": {
    "name": "ipython",
    "version": 3
   },
   "file_extension": ".py",
   "mimetype": "text/x-python",
   "name": "python",
   "nbconvert_exporter": "python",
   "pygments_lexer": "ipython3",
   "version": "3.10.12"
  }
 },
 "nbformat": 4,
 "nbformat_minor": 2
}
